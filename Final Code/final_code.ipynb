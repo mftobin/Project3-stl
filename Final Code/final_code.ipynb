{
 "cells": [
  {
   "cell_type": "code",
   "execution_count": null,
   "metadata": {
    "vscode": {
     "languageId": "plaintext"
    }
   },
   "outputs": [],
   "source": [
    "import pandas as pd\n",
    "import numpy as np\n",
    "import matplotlib.pyplot as plt\n",
    "import seaborn as sns\n",
    "from pathlib import Path\n",
    "\n",
    "import warnings\n",
    "import geopandas\n"
   ]
  },
  {
   "cell_type": "code",
   "execution_count": null,
   "metadata": {
    "vscode": {
     "languageId": "plaintext"
    }
   },
   "outputs": [],
   "source": [
    "national_df = pd.read_csv('../Resources/national_Heart_Disease.csv')\n",
    "national_df.head()"
   ]
  },
  {
   "cell_type": "code",
   "execution_count": null,
   "metadata": {
    "vscode": {
     "languageId": "plaintext"
    }
   },
   "outputs": [],
   "source": [
    "Overall_df = national_df[national_df['Gender'] == 'Overall']\n",
    "Overall_df = Overall_df.sort_values(by='Data Value (Per 100,000 Population)', ascending=False)\n",
    "Overall_df = Overall_df[Overall_df['Race/Ethnicity'] != 'Overall']"
   ]
  },
  {
   "cell_type": "code",
   "execution_count": null,
   "metadata": {
    "vscode": {
     "languageId": "plaintext"
    }
   },
   "outputs": [],
   "source": [
    "plt.style.available"
   ]
  },
  {
   "cell_type": "code",
   "execution_count": null,
   "metadata": {
    "vscode": {
     "languageId": "plaintext"
    }
   },
   "outputs": [],
   "source": [
    "# plt.style.use('grayscale')\n",
    "plt.style.use('seaborn-v0_8-poster')\n"
   ]
  },
  {
   "cell_type": "code",
   "execution_count": null,
   "metadata": {
    "vscode": {
     "languageId": "plaintext"
    }
   },
   "outputs": [],
   "source": [
    "data = Overall_df[\"Data Value (Per 100,000 Population)\"]\n",
    "labels = Overall_df[\"Race/Ethnicity\"]\n",
    "explode = [0.07,0,0,0,0,0,0]\n",
    "\n",
    "# colors = [\"#3A8F9D\", \"#FF6F61\", \"#FF7F50\", \"#FF8C69\", \"#FFB74D\", \"#FFCC80\", \"#FFE0B2\"]\n",
    "colors = [\"#3A8F9D\", \"#00B2B2\", \"#00B2B5\", \"#00C2C9\", \"#3BC6D9\", \"#6FD0E1\", \"#A0D8E6\"]\n",
    "\n",
    "plt.figure(figsize=(6,8))\n",
    "plt.title(\"United States Heart Disease by Ethnicity\", fontsize=18, fontweight=\"bold\")\n",
    "plt.pie(data, explode=explode, labels=labels, colors=colors, autopct= '%1.1f%%', textprops={'fontsize': 16}, pctdistance=0.75, labeldistance=1.1, startangle=120)\n",
    "plt.axis('equal')\n",
    "plt.show()"
   ]
  },
  {
   "cell_type": "code",
   "execution_count": null,
   "metadata": {
    "vscode": {
     "languageId": "plaintext"
    }
   },
   "outputs": [],
   "source": [
    "sns.set_theme(style=\"whitegrid\")\n",
    "\n",
    "# Initialize the matplotlib figure\n",
    "f, ax = plt.subplots(figsize=(8, 6))\n",
    "\n",
    "# Create a horizontal bar plot\n",
    "sns.barplot(data=Overall_df, x='Data Value (Per 100,000 Population)', y='Race/Ethnicity', color='b')\n",
    "\n",
    "# Customize the plot\n",
    "plt.xlabel('Mortality Rate (Per 100,000 Population)', fontsize=16)\n",
    "plt.ylabel('Ethnicity', fontsize=16)\n",
    "plt.title('United States Heart Disease by Ethnicity', fontsize=16, fontweight=\"bold\",)\n",
    "\n",
    "# Show the plot\n",
    "plt.tight_layout()\n",
    "plt.show()"
   ]
  },
  {
   "cell_type": "markdown",
   "metadata": {},
   "source": [
    "# Plotly Chloropleth"
   ]
  },
  {
   "cell_type": "code",
   "execution_count": null,
   "metadata": {
    "vscode": {
     "languageId": "plaintext"
    }
   },
   "outputs": [],
   "source": [
    "import plotly.graph_objects as go\n",
    "import plotly.express as px\n",
    "import plotly.colors as colors"
   ]
  },
  {
   "cell_type": "code",
   "execution_count": null,
   "metadata": {
    "vscode": {
     "languageId": "plaintext"
    }
   },
   "outputs": [],
   "source": [
    "state_df = pd.read_csv('../Resources/state_Heart_Disease.csv')\n"
   ]
  },
  {
   "cell_type": "code",
   "execution_count": null,
   "metadata": {
    "vscode": {
     "languageId": "plaintext"
    }
   },
   "outputs": [],
   "source": [
    "state_df = state_df[state_df['Race/Ethnicity'] == 'Overall']\n"
   ]
  },
  {
   "cell_type": "code",
   "execution_count": null,
   "metadata": {
    "vscode": {
     "languageId": "plaintext"
    }
   },
   "outputs": [],
   "source": [
    "state_df_pivoted = state_df.pivot(index='State', columns='Gender', values='Data Value (Per 100,000 Population)').reset_index()\n",
    "state_df_pivoted.rename(columns={'Overall': 'Overall Rate', 'Male': 'Male Rate', 'Female': 'Female Rate'}, inplace=True)\n",
    "state_df_pivoted.head()"
   ]
  },
  {
   "cell_type": "code",
   "execution_count": null,
   "metadata": {
    "vscode": {
     "languageId": "plaintext"
    }
   },
   "outputs": [],
   "source": [
    "state_full_names = {\n",
    "    'AL': 'Alabama', 'AK': 'Alaska', 'AZ': 'Arizona', 'AR': 'Arkansas',\n",
    "    'CA': 'California', 'CO': 'Colorado', 'CT': 'Connecticut', 'DE': 'Delaware',\n",
    "    'FL': 'Florida', 'GA': 'Georgia', 'HI': 'Hawaii', 'ID': 'Idaho',\n",
    "    'IL': 'Illinois', 'IN': 'Indiana', 'IA': 'Iowa', 'KS': 'Kansas',\n",
    "    'KY': 'Kentucky', 'LA': 'Louisiana', 'ME': 'Maine', 'MD': 'Maryland',\n",
    "    'MA': 'Massachusetts', 'MI': 'Michigan', 'MN': 'Minnesota', 'MS': 'Mississippi',\n",
    "    'MO': 'Missouri', 'MT': 'Montana', 'NE': 'Nebraska', 'NV': 'Nevada',\n",
    "    'NH': 'New Hampshire', 'NJ': 'New Jersey', 'NM': 'New Mexico', 'NY': 'New York',\n",
    "    'NC': 'North Carolina', 'ND': 'North Dakota', 'OH': 'Ohio', 'OK': 'Oklahoma',\n",
    "    'OR': 'Oregon', 'PA': 'Pennsylvania', 'RI': 'Rhode Island', 'SC': 'South Carolina',\n",
    "    'SD': 'South Dakota', 'TN': 'Tennessee', 'TX': 'Texas', 'UT': 'Utah',\n",
    "    'VT': 'Vermont', 'VA': 'Virginia', 'WA': 'Washington', 'WV': 'West Virginia',\n",
    "    'WI': 'Wisconsin', 'WY': 'Wyoming', \n",
    "}\n",
    "\n",
    "state_df_pivoted['Full State Name'] = state_df_pivoted['State'].map(state_full_names)\n",
    "state_df_pivoted[\"M/F Difference\"] = state_df_pivoted['Male Rate'] - state_df_pivoted['Female Rate']"
   ]
  },
  {
   "cell_type": "code",
   "execution_count": null,
   "metadata": {
    "vscode": {
     "languageId": "plaintext"
    }
   },
   "outputs": [],
   "source": [
    "states_to_remove = ['GU', 'DC', 'PR', 'VI', 'AS', 'MP']\n",
    "state_df_pivoted = state_df_pivoted[~state_df_pivoted['State'].isin(states_to_remove)]"
   ]
  },
  {
   "cell_type": "code",
   "execution_count": null,
   "metadata": {
    "vscode": {
     "languageId": "plaintext"
    }
   },
   "outputs": [],
   "source": [
    "fig = go.Figure(data=go.Choropleth(\n",
    "    locations=state_df_pivoted['State'],\n",
    "    z=state_df_pivoted['Overall Rate'],\n",
    "    locationmode='USA-states',\n",
    "    colorscale='Magma_r',\n",
    "    zmin=200, \n",
    "    zmax=600,  \n",
    "    autocolorscale=False,\n",
    "    marker_line_color='white',\n",
    "    marker_line_width=0.5,\n",
    "    colorbar_title=\"Mortality Rate (Per 100,000)\",\n",
    "    hoverinfo='text',\n",
    "    customdata=state_df_pivoted[['Full State Name', 'Male Rate', 'Female Rate']],\n",
    "    hovertemplate=\"<span style='font-size: 15px;'><b>%{customdata[0]}</b></span><br>\" +  # Display the state name\n",
    "                  \"Mortality Rate: %{z}<br>\" +               # Display the overall mortality rate\n",
    "                  # \"Male Rate:     %{customdata[1]}<br>\" +   # Display the male mortality rate\n",
    "                  # \"Female Rate: %{customdata[2]}<br>\" + # Display the female mortality rate\n",
    "                  \"<extra></extra>\",  # Remove the default hover text\n",
    "))\n",
    "\n",
    "fig.update_layout(\n",
    "    title_text = \"<b>USA Heart Disease Mortality Rate</b>\",\n",
    "    title_x=0.5,  # Center the title\n",
    "    title_y=0.9, # Center the title\n",
    "    geo_scope= 'usa',\n",
    "    width = 1000,\n",
    "    height = 600,\n",
    "    showlegend=False,\n",
    "    paper_bgcolor='White',\n",
    "    title_font_color='Black',\n",
    "    title_font_size=25,\n",
    "    margin=dict(l=10, r=10, t=50, b=10)  # Adjust the margins (left, right, top, bottom)\n",
    ")\n",
    "\n",
    "fig.show()"
   ]
  },
  {
   "cell_type": "code",
   "execution_count": null,
   "metadata": {
    "vscode": {
     "languageId": "plaintext"
    }
   },
   "outputs": [],
   "source": [
    "state_df_sorted = state_df_pivoted.sort_values(by='Overall Rate', ascending=False)\n",
    "state_df_sorted.head()"
   ]
  },
  {
   "cell_type": "code",
   "execution_count": null,
   "metadata": {
    "vscode": {
     "languageId": "plaintext"
    }
   },
   "outputs": [],
   "source": [
    "fig = px.scatter(state_df_pivoted, \n",
    "                 x='Overall Rate', \n",
    "                 y='M/F Difference', \n",
    "                 hover_name='Full State Name', \n",
    "                 size='Overall Rate', \n",
    "                 color='State', \n",
    "                 height=600)  # Set the height to your desired value (e.g., 600 pixels)\n",
    "fig.update_traces(showlegend=False)\n",
    "fig.update_layout(title='<b>USA Heart Disease Overall Mortality Rate vs Male/Female Difference Rate</b>')\n",
    "fig.show()\n",
    "# color_discrete_sequence=px.colors.sequential.Reds"
   ]
  },
  {
   "cell_type": "markdown",
   "metadata": {},
   "source": [
    "# Dash App"
   ]
  },
  {
   "cell_type": "code",
   "execution_count": null,
   "metadata": {
    "vscode": {
     "languageId": "plaintext"
    }
   },
   "outputs": [],
   "source": [
    "import dash\n",
    "import dash_core_components as dcc\n",
    "import dash_html_components as html\n",
    "from dash.dependencies import Input, Output"
   ]
  },
  {
   "cell_type": "code",
   "execution_count": null,
   "metadata": {
    "vscode": {
     "languageId": "plaintext"
    }
   },
   "outputs": [],
   "source": [
    "state_df_pivoted.head()"
   ]
  },
  {
   "cell_type": "code",
   "execution_count": null,
   "metadata": {
    "vscode": {
     "languageId": "plaintext"
    }
   },
   "outputs": [],
   "source": [
    "female_df = state_df_pivoted.sort_values(by='Female Rate', ascending=True)\n",
    "female_df.head()"
   ]
  },
  {
   "cell_type": "code",
   "execution_count": null,
   "metadata": {
    "vscode": {
     "languageId": "plaintext"
    }
   },
   "outputs": [],
   "source": [
    "app = dash.Dash(__name__)"
   ]
  },
  {
   "cell_type": "code",
   "execution_count": null,
   "metadata": {
    "vscode": {
     "languageId": "plaintext"
    }
   },
   "outputs": [],
   "source": [
    "app.layout = html.Div([\n",
    "    html.Div([\n",
    "        html.Div('Select Gender:', style={'fontSize': 25, 'color': 'white'}),\n",
    "        dcc.RadioItems(\n",
    "            id='gender-selector',\n",
    "            options=[\n",
    "                {'label': 'Male', 'value': 'Male Rate'},\n",
    "                {'label': 'Female', 'value': 'Female Rate'},\n",
    "                {'label': 'Overall', 'value': 'Overall Rate'}\n",
    "            ],\n",
    "            value='Overall Rate',  # Default value\n",
    "            labelStyle={'display': 'inline-block', 'margin': '10px', 'color': 'white'}  # Style for radio items\n",
    "        )\n",
    "    ], style={'textAlign': 'left', 'marginBottom': '10px'}),\n",
    "    \n",
    "    dcc.Graph(id='choropleth-map', style={'width': '100%', 'height': '400px'})  # Set the graph to full width\n",
    "])"
   ]
  },
  {
   "cell_type": "code",
   "execution_count": null,
   "metadata": {
    "vscode": {
     "languageId": "plaintext"
    }
   },
   "outputs": [],
   "source": [
    "@app.callback(\n",
    "    Output('choropleth-map', 'figure'),\n",
    "    Input('gender-selector', 'value')\n",
    ")\n",
    "def update_graphs(selected_rate):\n",
    "    # Update Choropleth Map\n",
    "    choropleth_fig = go.Figure(data=go.Choropleth(\n",
    "        locations=state_df_pivoted['State'],\n",
    "        z=state_df_pivoted[selected_rate],\n",
    "        locationmode='USA-states',\n",
    "        colorscale='Magma_r',\n",
    "        zmin=160, \n",
    "        zmax=600,  \n",
    "        autocolorscale=False,\n",
    "        marker_line_color='white',\n",
    "        marker_line_width=0.5,\n",
    "        colorbar_title=\"Mortality Rate (Per 100,000)\",\n",
    "        hoverinfo='text',\n",
    "        customdata=state_df_pivoted[['Full State Name', 'Male Rate', 'Female Rate']],\n",
    "        hovertemplate=\"<span style='font-size: 14px;'><b>%{customdata[0]}</b></span><br>\" +\n",
    "                      \"Mortality Rate: %{z}<br>\" +\n",
    "                      \"<extra></extra>\",\n",
    "    ))\n",
    "\n",
    "    choropleth_fig.update_layout(\n",
    "        title_text=\"<b>USA Heart Disease Mortality Rate by Gender</b>\",\n",
    "        title_y=0.9,\n",
    "        geo_scope='usa',\n",
    "        width=1000,  # You can adjust this if needed\n",
    "        height=600,  # Keep the height consistent\n",
    "        showlegend=False,\n",
    "        paper_bgcolor='darkgrey',\n",
    "        title_font_color='White',\n",
    "        title_font_size=28,  # Reduce title font size\n",
    "        margin=dict(l=10, r=10, t=50, b=10)\n",
    "    )\n",
    "\n",
    "    return choropleth_fig"
   ]
  },
  {
   "cell_type": "code",
   "execution_count": null,
   "metadata": {
    "vscode": {
     "languageId": "plaintext"
    }
   },
   "outputs": [],
   "source": [
    "# Run the app\n",
    "if __name__ == '__main__':\n",
    "    app.run_server(debug=True)"
   ]
  },
  {
   "cell_type": "markdown",
   "metadata": {},
   "source": [
    "# Reading the data from a database"
   ]
  },
  {
   "cell_type": "code",
   "execution_count": null,
   "metadata": {
    "vscode": {
     "languageId": "plaintext"
    }
   },
   "outputs": [],
   "source": [
    "# to read the csv into a database, we imported it using DB Browser"
   ]
  },
  {
   "cell_type": "code",
   "execution_count": null,
   "metadata": {
    "vscode": {
     "languageId": "plaintext"
    }
   },
   "outputs": [],
   "source": []
  }
 ],
 "metadata": {
  "language_info": {
   "name": "python"
  }
 },
 "nbformat": 4,
 "nbformat_minor": 2
}
