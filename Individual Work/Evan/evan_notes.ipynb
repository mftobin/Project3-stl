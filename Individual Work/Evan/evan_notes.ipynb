{
 "cells": [
  {
   "cell_type": "code",
   "execution_count": 1,
   "metadata": {},
   "outputs": [],
   "source": [
    "import pandas as pd\n",
    "import numpy as np\n",
    "import matplotlib.pyplot as plt\n",
    "import seaborn as sns\n",
    "from pathlib import Path\n",
    "\n",
    "import warnings"
   ]
  },
  {
   "cell_type": "code",
   "execution_count": 2,
   "metadata": {},
   "outputs": [],
   "source": [
    "import geopandas"
   ]
  },
  {
   "cell_type": "code",
   "execution_count": 3,
   "metadata": {},
   "outputs": [
    {
     "data": {
      "text/html": [
       "<div>\n",
       "<style scoped>\n",
       "    .dataframe tbody tr th:only-of-type {\n",
       "        vertical-align: middle;\n",
       "    }\n",
       "\n",
       "    .dataframe tbody tr th {\n",
       "        vertical-align: top;\n",
       "    }\n",
       "\n",
       "    .dataframe thead th {\n",
       "        text-align: right;\n",
       "    }\n",
       "</style>\n",
       "<table border=\"1\" class=\"dataframe\">\n",
       "  <thead>\n",
       "    <tr style=\"text-align: right;\">\n",
       "      <th></th>\n",
       "      <th>Unnamed: 0</th>\n",
       "      <th>State</th>\n",
       "      <th>LocationDesc</th>\n",
       "      <th>GeographicLevel</th>\n",
       "      <th>Data Value (Per 100,000 Population)</th>\n",
       "      <th>Gender</th>\n",
       "      <th>Race/Ethnicity</th>\n",
       "      <th>LocationID</th>\n",
       "      <th>Latitude</th>\n",
       "      <th>Longitude</th>\n",
       "    </tr>\n",
       "  </thead>\n",
       "  <tbody>\n",
       "    <tr>\n",
       "      <th>0</th>\n",
       "      <td>67197</td>\n",
       "      <td>US</td>\n",
       "      <td>United States</td>\n",
       "      <td>Nation</td>\n",
       "      <td>165.1</td>\n",
       "      <td>Overall</td>\n",
       "      <td>Asian</td>\n",
       "      <td>0</td>\n",
       "      <td>NaN</td>\n",
       "      <td>NaN</td>\n",
       "    </tr>\n",
       "    <tr>\n",
       "      <th>1</th>\n",
       "      <td>67973</td>\n",
       "      <td>US</td>\n",
       "      <td>United States</td>\n",
       "      <td>Nation</td>\n",
       "      <td>253.6</td>\n",
       "      <td>Female</td>\n",
       "      <td>Overall</td>\n",
       "      <td>0</td>\n",
       "      <td>NaN</td>\n",
       "      <td>NaN</td>\n",
       "    </tr>\n",
       "    <tr>\n",
       "      <th>2</th>\n",
       "      <td>68318</td>\n",
       "      <td>US</td>\n",
       "      <td>United States</td>\n",
       "      <td>Nation</td>\n",
       "      <td>292.3</td>\n",
       "      <td>Male</td>\n",
       "      <td>Hispanic</td>\n",
       "      <td>0</td>\n",
       "      <td>NaN</td>\n",
       "      <td>NaN</td>\n",
       "    </tr>\n",
       "    <tr>\n",
       "      <th>3</th>\n",
       "      <td>69192</td>\n",
       "      <td>US</td>\n",
       "      <td>United States</td>\n",
       "      <td>Nation</td>\n",
       "      <td>218.5</td>\n",
       "      <td>Female</td>\n",
       "      <td>American Indian or Alaska Native</td>\n",
       "      <td>0</td>\n",
       "      <td>NaN</td>\n",
       "      <td>NaN</td>\n",
       "    </tr>\n",
       "    <tr>\n",
       "      <th>4</th>\n",
       "      <td>69416</td>\n",
       "      <td>US</td>\n",
       "      <td>United States</td>\n",
       "      <td>Nation</td>\n",
       "      <td>417.5</td>\n",
       "      <td>Male</td>\n",
       "      <td>Native Hawaiian or Other Pacific Islander</td>\n",
       "      <td>0</td>\n",
       "      <td>NaN</td>\n",
       "      <td>NaN</td>\n",
       "    </tr>\n",
       "  </tbody>\n",
       "</table>\n",
       "</div>"
      ],
      "text/plain": [
       "   Unnamed: 0 State   LocationDesc GeographicLevel  \\\n",
       "0       67197    US  United States          Nation   \n",
       "1       67973    US  United States          Nation   \n",
       "2       68318    US  United States          Nation   \n",
       "3       69192    US  United States          Nation   \n",
       "4       69416    US  United States          Nation   \n",
       "\n",
       "   Data Value (Per 100,000 Population)   Gender  \\\n",
       "0                                165.1  Overall   \n",
       "1                                253.6   Female   \n",
       "2                                292.3     Male   \n",
       "3                                218.5   Female   \n",
       "4                                417.5     Male   \n",
       "\n",
       "                              Race/Ethnicity  LocationID  Latitude  Longitude  \n",
       "0                                      Asian           0       NaN        NaN  \n",
       "1                                    Overall           0       NaN        NaN  \n",
       "2                                   Hispanic           0       NaN        NaN  \n",
       "3           American Indian or Alaska Native           0       NaN        NaN  \n",
       "4  Native Hawaiian or Other Pacific Islander           0       NaN        NaN  "
      ]
     },
     "execution_count": 3,
     "metadata": {},
     "output_type": "execute_result"
    }
   ],
   "source": [
    "national_df = pd.read_csv('../Resources/national_Heart_Disease.csv')\n",
    "national_df.head()"
   ]
  },
  {
   "cell_type": "code",
   "execution_count": 4,
   "metadata": {},
   "outputs": [],
   "source": [
    "Overall_df = national_df[national_df['Gender'] == 'Overall']\n",
    "Overall_df = Overall_df.sort_values(by='Data Value (Per 100,000 Population)', ascending=False)\n",
    "Overall_df = Overall_df[Overall_df['Race/Ethnicity'] != 'Overall']"
   ]
  },
  {
   "cell_type": "code",
   "execution_count": 5,
   "metadata": {},
   "outputs": [
    {
     "data": {
      "text/plain": [
       "['Solarize_Light2',\n",
       " '_classic_test_patch',\n",
       " '_mpl-gallery',\n",
       " '_mpl-gallery-nogrid',\n",
       " 'bmh',\n",
       " 'classic',\n",
       " 'dark_background',\n",
       " 'fast',\n",
       " 'fivethirtyeight',\n",
       " 'ggplot',\n",
       " 'grayscale',\n",
       " 'seaborn-v0_8',\n",
       " 'seaborn-v0_8-bright',\n",
       " 'seaborn-v0_8-colorblind',\n",
       " 'seaborn-v0_8-dark',\n",
       " 'seaborn-v0_8-dark-palette',\n",
       " 'seaborn-v0_8-darkgrid',\n",
       " 'seaborn-v0_8-deep',\n",
       " 'seaborn-v0_8-muted',\n",
       " 'seaborn-v0_8-notebook',\n",
       " 'seaborn-v0_8-paper',\n",
       " 'seaborn-v0_8-pastel',\n",
       " 'seaborn-v0_8-poster',\n",
       " 'seaborn-v0_8-talk',\n",
       " 'seaborn-v0_8-ticks',\n",
       " 'seaborn-v0_8-white',\n",
       " 'seaborn-v0_8-whitegrid',\n",
       " 'tableau-colorblind10']"
      ]
     },
     "execution_count": 5,
     "metadata": {},
     "output_type": "execute_result"
    }
   ],
   "source": [
    "plt.style.available"
   ]
  },
  {
   "cell_type": "code",
   "execution_count": 6,
   "metadata": {},
   "outputs": [],
   "source": [
    "# plt.style.use('grayscale')\n",
    "plt.style.use('seaborn-v0_8-poster')\n"
   ]
  },
  {
   "cell_type": "code",
   "execution_count": 7,
   "metadata": {},
   "outputs": [
    {
     "data": {
      "image/png": "[encoded data removed]",
      "text/plain": [
       "<Figure size 600x800 with 1 Axes>"
      ]
     },
     "metadata": {},
     "output_type": "display_data"
    }
   ],
   "source": [
    "data = Overall_df[\"Data Value (Per 100,000 Population)\"]\n",
    "labels = Overall_df[\"Race/Ethnicity\"]\n",
    "explode = [0.07,0,0,0,0,0,0]\n",
    "\n",
    "# colors = [\"#3A8F9D\", \"#FF6F61\", \"#FF7F50\", \"#FF8C69\", \"#FFB74D\", \"#FFCC80\", \"#FFE0B2\"]\n",
    "colors = [\"#3A8F9D\", \"#00B2B2\", \"#00B2B5\", \"#00C2C9\", \"#3BC6D9\", \"#6FD0E1\", \"#A0D8E6\"]\n",
    "\n",
    "plt.figure(figsize=(6,8))\n",
    "plt.title(\"United States Heart Disease by Ethnicity\", fontsize=18, fontweight=\"bold\")\n",
    "plt.pie(data, explode=explode, labels=labels, colors=colors, autopct= '%1.1f%%', textprops={'fontsize': 16}, pctdistance=0.75, labeldistance=1.1, startangle=120)\n",
    "plt.axis('equal')\n",
    "plt.show()"
   ]
  },
  {
   "cell_type": "code",
   "execution_count": 8,
   "metadata": {},
   "outputs": [
    {
     "data": {
      "image/png": "[encoded data removed]",
      "text/plain": [
       "<Figure size 800x600 with 1 Axes>"
      ]
     },
     "metadata": {},
     "output_type": "display_data"
    }
   ],
   "source": [
    "sns.set_theme(style=\"whitegrid\")\n",
    "\n",
    "# Initialize the matplotlib figure\n",
    "f, ax = plt.subplots(figsize=(8, 6))\n",
    "\n",
    "# Create a horizontal bar plot\n",
    "sns.barplot(data=Overall_df, x='Data Value (Per 100,000 Population)', y='Race/Ethnicity', color='b')\n",
    "\n",
    "# Customize the plot\n",
    "plt.xlabel('Mortality Rate (Per 100,000 Population)', fontsize=16)\n",
    "plt.ylabel('Ethnicity', fontsize=16)\n",
    "plt.title('United States Heart Disease by Ethnicity', fontsize=16, fontweight=\"bold\",)\n",
    "\n",
    "# Show the plot\n",
    "plt.tight_layout()\n",
    "plt.show()"
   ]
  },
  {
   "cell_type": "markdown",
   "metadata": {},
   "source": [
    "# Plotly Choropleth"
   ]
  },
  {
   "cell_type": "code",
   "execution_count": 9,
   "metadata": {},
   "outputs": [],
   "source": [
    "import plotly.graph_objects as go\n",
    "import plotly.express as px\n",
    "import plotly.colors as colors"
   ]
  },
  {
   "cell_type": "code",
   "execution_count": 10,
   "metadata": {},
   "outputs": [],
   "source": [
    "state_df = pd.read_csv('../Resources/state_Heart_Disease.csv')\n"
   ]
  },
  {
   "cell_type": "code",
   "execution_count": 11,
   "metadata": {},
   "outputs": [],
   "source": [
    "state_df = state_df[state_df['Race/Ethnicity'] == 'Overall']\n"
   ]
  },
  {
   "cell_type": "code",
   "execution_count": 12,
   "metadata": {},
   "outputs": [
    {
     "data": {
      "text/html": [
       "<div>\n",
       "<style scoped>\n",
       "    .dataframe tbody tr th:only-of-type {\n",
       "        vertical-align: middle;\n",
       "    }\n",
       "\n",
       "    .dataframe tbody tr th {\n",
       "        vertical-align: top;\n",
       "    }\n",
       "\n",
       "    .dataframe thead th {\n",
       "        text-align: right;\n",
       "    }\n",
       "</style>\n",
       "<table border=\"1\" class=\"dataframe\">\n",
       "  <thead>\n",
       "    <tr style=\"text-align: right;\">\n",
       "      <th>Gender</th>\n",
       "      <th>State</th>\n",
       "      <th>Female Rate</th>\n",
       "      <th>Male Rate</th>\n",
       "      <th>Overall Rate</th>\n",
       "    </tr>\n",
       "  </thead>\n",
       "  <tbody>\n",
       "    <tr>\n",
       "      <th>0</th>\n",
       "      <td>AK</td>\n",
       "      <td>203.5</td>\n",
       "      <td>345.3</td>\n",
       "      <td>272.2</td>\n",
       "    </tr>\n",
       "    <tr>\n",
       "      <th>1</th>\n",
       "      <td>AL</td>\n",
       "      <td>356.5</td>\n",
       "      <td>570.3</td>\n",
       "      <td>451.9</td>\n",
       "    </tr>\n",
       "    <tr>\n",
       "      <th>2</th>\n",
       "      <td>AR</td>\n",
       "      <td>344.8</td>\n",
       "      <td>549.1</td>\n",
       "      <td>438.2</td>\n",
       "    </tr>\n",
       "    <tr>\n",
       "      <th>3</th>\n",
       "      <td>AS</td>\n",
       "      <td>NaN</td>\n",
       "      <td>NaN</td>\n",
       "      <td>NaN</td>\n",
       "    </tr>\n",
       "    <tr>\n",
       "      <th>4</th>\n",
       "      <td>AZ</td>\n",
       "      <td>218.9</td>\n",
       "      <td>353.2</td>\n",
       "      <td>282.1</td>\n",
       "    </tr>\n",
       "  </tbody>\n",
       "</table>\n",
       "</div>"
      ],
      "text/plain": [
       "Gender State  Female Rate  Male Rate  Overall Rate\n",
       "0         AK        203.5      345.3         272.2\n",
       "1         AL        356.5      570.3         451.9\n",
       "2         AR        344.8      549.1         438.2\n",
       "3         AS          NaN        NaN           NaN\n",
       "4         AZ        218.9      353.2         282.1"
      ]
     },
     "execution_count": 12,
     "metadata": {},
     "output_type": "execute_result"
    }
   ],
   "source": [
    "state_df_pivoted = state_df.pivot(index='State', columns='Gender', values='Data Value (Per 100,000 Population)').reset_index()\n",
    "state_df_pivoted.rename(columns={'Overall': 'Overall Rate', 'Male': 'Male Rate', 'Female': 'Female Rate'}, inplace=True)\n",
    "state_df_pivoted.head()"
   ]
  },
  {
   "cell_type": "code",
   "execution_count": 13,
   "metadata": {},
   "outputs": [],
   "source": [
    "state_full_names = {\n",
    "    'AL': 'Alabama', 'AK': 'Alaska', 'AZ': 'Arizona', 'AR': 'Arkansas',\n",
    "    'CA': 'California', 'CO': 'Colorado', 'CT': 'Connecticut', 'DE': 'Delaware',\n",
    "    'FL': 'Florida', 'GA': 'Georgia', 'HI': 'Hawaii', 'ID': 'Idaho',\n",
    "    'IL': 'Illinois', 'IN': 'Indiana', 'IA': 'Iowa', 'KS': 'Kansas',\n",
    "    'KY': 'Kentucky', 'LA': 'Louisiana', 'ME': 'Maine', 'MD': 'Maryland',\n",
    "    'MA': 'Massachusetts', 'MI': 'Michigan', 'MN': 'Minnesota', 'MS': 'Mississippi',\n",
    "    'MO': 'Missouri', 'MT': 'Montana', 'NE': 'Nebraska', 'NV': 'Nevada',\n",
    "    'NH': 'New Hampshire', 'NJ': 'New Jersey', 'NM': 'New Mexico', 'NY': 'New York',\n",
    "    'NC': 'North Carolina', 'ND': 'North Dakota', 'OH': 'Ohio', 'OK': 'Oklahoma',\n",
    "    'OR': 'Oregon', 'PA': 'Pennsylvania', 'RI': 'Rhode Island', 'SC': 'South Carolina',\n",
    "    'SD': 'South Dakota', 'TN': 'Tennessee', 'TX': 'Texas', 'UT': 'Utah',\n",
    "    'VT': 'Vermont', 'VA': 'Virginia', 'WA': 'Washington', 'WV': 'West Virginia',\n",
    "    'WI': 'Wisconsin', 'WY': 'Wyoming', \n",
    "}\n",
    "\n",
    "state_df_pivoted['Full State Name'] = state_df_pivoted['State'].map(state_full_names)\n",
    "state_df_pivoted[\"M/F Difference\"] = state_df_pivoted['Male Rate'] - state_df_pivoted['Female Rate']"
   ]
  },
  {
   "cell_type": "code",
   "execution_count": 14,
   "metadata": {},
   "outputs": [],
   "source": [
    "states_to_remove = ['GU', 'DC', 'PR', 'VI', 'AS', 'MP']\n",
    "state_df_pivoted = state_df_pivoted[~state_df_pivoted['State'].isin(states_to_remove)]"
   ]
  },
  {
   "cell_type": "code",
   "execution_count": 15,
   "metadata": {},
   "outputs": [
    {
     "data": {
      "application/vnd.plotly.v1+json": {
       "config": {
        "plotlyServerURL": "https://plot.ly"
       },
       "data": [
        {
         "autocolorscale": false,
         "colorbar": {
          "title": {
           "text": "Mortality Rate (Per 100,000)"
          }
         },
         "colorscale": [
          [
           0,
           "#fcfdbf"
          ],
          [
           0.1111111111111111,
           "#feca8d"
          ],
          [
           0.2222222222222222,
           "#fd9668"
          ],
          [
           0.3333333333333333,
           "#f1605d"
          ],
          [
           0.4444444444444444,
           "#cd4071"
          ],
          [
           0.5555555555555556,
           "#9e2f7f"
          ],
          [
           0.6666666666666666,
           "#721f81"
          ],
          [
           0.7777777777777778,
           "#440f76"
          ],
          [
           0.8888888888888888,
           "#180f3d"
          ],
          [
           1,
           "#000004"
          ]
         ],
         "customdata": [
          [
           "Alaska",
           345.3,
           203.5
          ],
          [
           "Alabama",
           570.3,
           356.5
          ],
          [
           "Arkansas",
           549.1,
           344.8
          ],
          [
           "Arizona",
           353.2,
           218.9
          ],
          [
           "California",
           357.8,
           210.8
          ],
          [
           "Colorado",
           312.3,
           201.1
          ],
          [
           "Connecticut",
           347.2,
           210.3
          ],
          [
           "Delaware",
           392.2,
           238
          ],
          [
           "Florida",
           356.6,
           214.3
          ],
          [
           "Georgia",
           450.8,
           282.2
          ],
          [
           "Hawaii",
           327.9,
           162.2
          ],
          [
           "Iowa",
           438.5,
           264.1
          ],
          [
           "Idaho",
           372.2,
           241.4
          ],
          [
           "Illinois",
           417.8,
           251.1
          ],
          [
           "Indiana",
           454.8,
           278.8
          ],
          [
           "Kansas",
           418.6,
           255.6
          ],
          [
           "Kentucky",
           505.9,
           309.5
          ],
          [
           "Louisiana",
           544.9,
           333
          ],
          [
           "Massachusetts",
           327.3,
           193.1
          ],
          [
           "Maryland",
           404.6,
           249.5
          ],
          [
           "Maine",
           376.9,
           225.4
          ],
          [
           "Michigan",
           494.3,
           310
          ],
          [
           "Minnesota",
           295.5,
           179.8
          ],
          [
           "Missouri",
           482.8,
           291.3
          ],
          [
           "Mississippi",
           596.8,
           364.4
          ],
          [
           "Montana",
           405.5,
           241.9
          ],
          [
           "North Carolina",
           398.5,
           241.2
          ],
          [
           "North Dakota",
           374.2,
           213.2
          ],
          [
           "Nebraska",
           361.4,
           230
          ],
          [
           "New Hampshire",
           372.1,
           216.2
          ],
          [
           "New Jersey",
           394.9,
           246.8
          ],
          [
           "New Mexico",
           384.4,
           231
          ],
          [
           "Nevada",
           496.6,
           298.6
          ],
          [
           "New York",
           418,
           264.3
          ],
          [
           "Ohio",
           482.8,
           299.6
          ],
          [
           "Oklahoma",
           596.7,
           376.9
          ],
          [
           "Oregon",
           343,
           204.3
          ],
          [
           "Pennsylvania",
           436.5,
           267.2
          ],
          [
           "Rhode Island",
           391.7,
           236.6
          ],
          [
           "South Carolina",
           430.7,
           261.5
          ],
          [
           "South Dakota",
           400.4,
           214.4
          ],
          [
           "Tennessee",
           523.3,
           319.2
          ],
          [
           "Texas",
           423.7,
           260.2
          ],
          [
           "Utah",
           347.4,
           257.8
          ],
          [
           "Virginia",
           381.7,
           236.9
          ],
          [
           "Vermont",
           410.2,
           246.9
          ],
          [
           "Washington",
           343.8,
           207.4
          ],
          [
           "Wisconsin",
           405.2,
           247.1
          ],
          [
           "West Virginia",
           493.3,
           316.5
          ],
          [
           "Wyoming",
           392.9,
           221.4
          ]
         ],
         "hoverinfo": "text",
         "hovertemplate": "<span style='font-size: 15px;'><b>%{customdata[0]}</b></span><br>Mortality Rate: %{z}<br><extra></extra>",
         "locationmode": "USA-states",
         "locations": [
          "AK",
          "AL",
          "AR",
          "AZ",
          "CA",
          "CO",
          "CT",
          "DE",
          "FL",
          "GA",
          "HI",
          "IA",
          "ID",
          "IL",
          "IN",
          "KS",
          "KY",
          "LA",
          "MA",
          "MD",
          "ME",
          "MI",
          "MN",
          "MO",
          "MS",
          "MT",
          "NC",
          "ND",
          "NE",
          "NH",
          "NJ",
          "NM",
          "NV",
          "NY",
          "OH",
          "OK",
          "OR",
          "PA",
          "RI",
          "SC",
          "SD",
          "TN",
          "TX",
          "UT",
          "VA",
          "VT",
          "WA",
          "WI",
          "WV",
          "WY"
         ],
         "marker": {
          "line": {
           "color": "white",
           "width": 0.5
          }
         },
         "type": "choropleth",
         "z": [
          272.2,
          451.9,
          438.2,
          282.1,
          277.4,
          252.6,
          270.6,
          307.3,
          280.1,
          357.2,
          238.7,
          342.9,
          302.9,
          325.2,
          357,
          328.9,
          398.1,
          427.8,
          250.8,
          317.6,
          294.1,
          392.9,
          231.4,
          377.7,
          467.8,
          319.7,
          310.8,
          288.3,
          289.9,
          286.9,
          311.7,
          302.2,
          393.1,
          332.1,
          380.8,
          477.7,
          267.3,
          341.7,
          303,
          337.3,
          300.7,
          411.2,
          334.5,
          300.1,
          301.8,
          320.8,
          269.8,
          318.4,
          398.4,
          303.4
         ],
         "zmax": 600,
         "zmin": 200
        }
       ],
       "layout": {
        "geo": {
         "scope": "usa"
        },
        "height": 600,
        "margin": {
         "b": 10,
         "l": 10,
         "r": 10,
         "t": 50
        },
        "paper_bgcolor": "White",
        "showlegend": false,
        "template": {
         "data": {
          "bar": [
           {
            "error_x": {
             "color": "#2a3f5f"
            },
            "error_y": {
             "color": "#2a3f5f"
            },
            "marker": {
             "line": {
              "color": "#E5ECF6",
              "width": 0.5
             },
             "pattern": {
              "fillmode": "overlay",
              "size": 10,
              "solidity": 0.2
             }
            },
            "type": "bar"
           }
          ],
          "barpolar": [
           {
            "marker": {
             "line": {
              "color": "#E5ECF6",
              "width": 0.5
             },
             "pattern": {
              "fillmode": "overlay",
              "size": 10,
              "solidity": 0.2
             }
            },
            "type": "barpolar"
           }
          ],
          "carpet": [
           {
            "aaxis": {
             "endlinecolor": "#2a3f5f",
             "gridcolor": "white",
             "linecolor": "white",
             "minorgridcolor": "white",
             "startlinecolor": "#2a3f5f"
            },
            "baxis": {
             "endlinecolor": "#2a3f5f",
             "gridcolor": "white",
             "linecolor": "white",
             "minorgridcolor": "white",
             "startlinecolor": "#2a3f5f"
            },
            "type": "carpet"
           }
          ],
          "choropleth": [
           {
            "colorbar": {
             "outlinewidth": 0,
             "ticks": ""
            },
            "type": "choropleth"
           }
          ],
          "contour": [
           {
            "colorbar": {
             "outlinewidth": 0,
             "ticks": ""
            },
            "colorscale": [
             [
              0,
              "#0d0887"
             ],
             [
              0.1111111111111111,
              "#46039f"
             ],
             [
              0.2222222222222222,
              "#7201a8"
             ],
             [
              0.3333333333333333,
              "#9c179e"
             ],
             [
              0.4444444444444444,
              "#bd3786"
             ],
             [
              0.5555555555555556,
              "#d8576b"
             ],
             [
              0.6666666666666666,
              "#ed7953"
             ],
             [
              0.7777777777777778,
              "#fb9f3a"
             ],
             [
              0.8888888888888888,
              "#fdca26"
             ],
             [
              1,
              "#f0f921"
             ]
            ],
            "type": "contour"
           }
          ],
          "contourcarpet": [
           {
            "colorbar": {
             "outlinewidth": 0,
             "ticks": ""
            },
            "type": "contourcarpet"
           }
          ],
          "heatmap": [
           {
            "colorbar": {
             "outlinewidth": 0,
             "ticks": ""
            },
            "colorscale": [
             [
              0,
              "#0d0887"
             ],
             [
              0.1111111111111111,
              "#46039f"
             ],
             [
              0.2222222222222222,
              "#7201a8"
             ],
             [
              0.3333333333333333,
              "#9c179e"
             ],
             [
              0.4444444444444444,
              "#bd3786"
             ],
             [
              0.5555555555555556,
              "#d8576b"
             ],
             [
              0.6666666666666666,
              "#ed7953"
             ],
             [
              0.7777777777777778,
              "#fb9f3a"
             ],
             [
              0.8888888888888888,
              "#fdca26"
             ],
             [
              1,
              "#f0f921"
             ]
            ],
            "type": "heatmap"
           }
          ],
          "heatmapgl": [
           {
            "colorbar": {
             "outlinewidth": 0,
             "ticks": ""
            },
            "colorscale": [
             [
              0,
              "#0d0887"
             ],
             [
              0.1111111111111111,
              "#46039f"
             ],
             [
              0.2222222222222222,
              "#7201a8"
             ],
             [
              0.3333333333333333,
              "#9c179e"
             ],
             [
              0.4444444444444444,
              "#bd3786"
             ],
             [
              0.5555555555555556,
              "#d8576b"
             ],
             [
              0.6666666666666666,
              "#ed7953"
             ],
             [
              0.7777777777777778,
              "#fb9f3a"
             ],
             [
              0.8888888888888888,
              "#fdca26"
             ],
             [
              1,
              "#f0f921"
             ]
            ],
            "type": "heatmapgl"
           }
          ],
          "histogram": [
           {
            "marker": {
             "pattern": {
              "fillmode": "overlay",
              "size": 10,
              "solidity": 0.2
             }
            },
            "type": "histogram"
           }
          ],
          "histogram2d": [
           {
            "colorbar": {
             "outlinewidth": 0,
             "ticks": ""
            },
            "colorscale": [
             [
              0,
              "#0d0887"
             ],
             [
              0.1111111111111111,
              "#46039f"
             ],
             [
              0.2222222222222222,
              "#7201a8"
             ],
             [
              0.3333333333333333,
              "#9c179e"
             ],
             [
              0.4444444444444444,
              "#bd3786"
             ],
             [
              0.5555555555555556,
              "#d8576b"
             ],
             [
              0.6666666666666666,
              "#ed7953"
             ],
             [
              0.7777777777777778,
              "#fb9f3a"
             ],
             [
              0.8888888888888888,
              "#fdca26"
             ],
             [
              1,
              "#f0f921"
             ]
            ],
            "type": "histogram2d"
           }
          ],
          "histogram2dcontour": [
           {
            "colorbar": {
             "outlinewidth": 0,
             "ticks": ""
            },
            "colorscale": [
             [
              0,
              "#0d0887"
             ],
             [
              0.1111111111111111,
              "#46039f"
             ],
             [
              0.2222222222222222,
              "#7201a8"
             ],
             [
              0.3333333333333333,
              "#9c179e"
             ],
             [
              0.4444444444444444,
              "#bd3786"
             ],
             [
              0.5555555555555556,
              "#d8576b"
             ],
             [
              0.6666666666666666,
              "#ed7953"
             ],
             [
              0.7777777777777778,
              "#fb9f3a"
             ],
             [
              0.8888888888888888,
              "#fdca26"
             ],
             [
              1,
              "#f0f921"
             ]
            ],
            "type": "histogram2dcontour"
           }
          ],
          "mesh3d": [
           {
            "colorbar": {
             "outlinewidth": 0,
             "ticks": ""
            },
            "type": "mesh3d"
           }
          ],
          "parcoords": [
           {
            "line": {
             "colorbar": {
              "outlinewidth": 0,
              "ticks": ""
             }
            },
            "type": "parcoords"
           }
          ],
          "pie": [
           {
            "automargin": true,
            "type": "pie"
           }
          ],
          "scatter": [
           {
            "fillpattern": {
             "fillmode": "overlay",
             "size": 10,
             "solidity": 0.2
            },
            "type": "scatter"
           }
          ],
          "scatter3d": [
           {
            "line": {
             "colorbar": {
              "outlinewidth": 0,
              "ticks": ""
             }
            },
            "marker": {
             "colorbar": {
              "outlinewidth": 0,
              "ticks": ""
             }
            },
            "type": "scatter3d"
           }
          ],
          "scattercarpet": [
           {
            "marker": {
             "colorbar": {
              "outlinewidth": 0,
              "ticks": ""
             }
            },
            "type": "scattercarpet"
           }
          ],
          "scattergeo": [
           {
            "marker": {
             "colorbar": {
              "outlinewidth": 0,
              "ticks": ""
             }
            },
            "type": "scattergeo"
           }
          ],
          "scattergl": [
           {
            "marker": {
             "colorbar": {
              "outlinewidth": 0,
              "ticks": ""
             }
            },
            "type": "scattergl"
           }
          ],
          "scattermapbox": [
           {
            "marker": {
             "colorbar": {
              "outlinewidth": 0,
              "ticks": ""
             }
            },
            "type": "scattermapbox"
           }
          ],
          "scatterpolar": [
           {
            "marker": {
             "colorbar": {
              "outlinewidth": 0,
              "ticks": ""
             }
            },
            "type": "scatterpolar"
           }
          ],
          "scatterpolargl": [
           {
            "marker": {
             "colorbar": {
              "outlinewidth": 0,
              "ticks": ""
             }
            },
            "type": "scatterpolargl"
           }
          ],
          "scatterternary": [
           {
            "marker": {
             "colorbar": {
              "outlinewidth": 0,
              "ticks": ""
             }
            },
            "type": "scatterternary"
           }
          ],
          "surface": [
           {
            "colorbar": {
             "outlinewidth": 0,
             "ticks": ""
            },
            "colorscale": [
             [
              0,
              "#0d0887"
             ],
             [
              0.1111111111111111,
              "#46039f"
             ],
             [
              0.2222222222222222,
              "#7201a8"
             ],
             [
              0.3333333333333333,
              "#9c179e"
             ],
             [
              0.4444444444444444,
              "#bd3786"
             ],
             [
              0.5555555555555556,
              "#d8576b"
             ],
             [
              0.6666666666666666,
              "#ed7953"
             ],
             [
              0.7777777777777778,
              "#fb9f3a"
             ],
             [
              0.8888888888888888,
              "#fdca26"
             ],
             [
              1,
              "#f0f921"
             ]
            ],
            "type": "surface"
           }
          ],
          "table": [
           {
            "cells": {
             "fill": {
              "color": "#EBF0F8"
             },
             "line": {
              "color": "white"
             }
            },
            "header": {
             "fill": {
              "color": "#C8D4E3"
             },
             "line": {
              "color": "white"
             }
            },
            "type": "table"
           }
          ]
         },
         "layout": {
          "annotationdefaults": {
           "arrowcolor": "#2a3f5f",
           "arrowhead": 0,
           "arrowwidth": 1
          },
          "autotypenumbers": "strict",
          "coloraxis": {
           "colorbar": {
            "outlinewidth": 0,
            "ticks": ""
           }
          },
          "colorscale": {
           "diverging": [
            [
             0,
             "#8e0152"
            ],
            [
             0.1,
             "#c51b7d"
            ],
            [
             0.2,
             "#de77ae"
            ],
            [
             0.3,
             "#f1b6da"
            ],
            [
             0.4,
             "#fde0ef"
            ],
            [
             0.5,
             "#f7f7f7"
            ],
            [
             0.6,
             "#e6f5d0"
            ],
            [
             0.7,
             "#b8e186"
            ],
            [
             0.8,
             "#7fbc41"
            ],
            [
             0.9,
             "#4d9221"
            ],
            [
             1,
             "#276419"
            ]
           ],
           "sequential": [
            [
             0,
             "#0d0887"
            ],
            [
             0.1111111111111111,
             "#46039f"
            ],
            [
             0.2222222222222222,
             "#7201a8"
            ],
            [
             0.3333333333333333,
             "#9c179e"
            ],
            [
             0.4444444444444444,
             "#bd3786"
            ],
            [
             0.5555555555555556,
             "#d8576b"
            ],
            [
             0.6666666666666666,
             "#ed7953"
            ],
            [
             0.7777777777777778,
             "#fb9f3a"
            ],
            [
             0.8888888888888888,
             "#fdca26"
            ],
            [
             1,
             "#f0f921"
            ]
           ],
           "sequentialminus": [
            [
             0,
             "#0d0887"
            ],
            [
             0.1111111111111111,
             "#46039f"
            ],
            [
             0.2222222222222222,
             "#7201a8"
            ],
            [
             0.3333333333333333,
             "#9c179e"
            ],
            [
             0.4444444444444444,
             "#bd3786"
            ],
            [
             0.5555555555555556,
             "#d8576b"
            ],
            [
             0.6666666666666666,
             "#ed7953"
            ],
            [
             0.7777777777777778,
             "#fb9f3a"
            ],
            [
             0.8888888888888888,
             "#fdca26"
            ],
            [
             1,
             "#f0f921"
            ]
           ]
          },
          "colorway": [
           "#636efa",
           "#EF553B",
           "#00cc96",
           "#ab63fa",
           "#FFA15A",
           "#19d3f3",
           "#FF6692",
           "#B6E880",
           "#FF97FF",
           "#FECB52"
          ],
          "font": {
           "color": "#2a3f5f"
          },
          "geo": {
           "bgcolor": "white",
           "lakecolor": "white",
           "landcolor": "#E5ECF6",
           "showlakes": true,
           "showland": true,
           "subunitcolor": "white"
          },
          "hoverlabel": {
           "align": "left"
          },
          "hovermode": "closest",
          "mapbox": {
           "style": "light"
          },
          "paper_bgcolor": "white",
          "plot_bgcolor": "#E5ECF6",
          "polar": {
           "angularaxis": {
            "gridcolor": "white",
            "linecolor": "white",
            "ticks": ""
           },
           "bgcolor": "#E5ECF6",
           "radialaxis": {
            "gridcolor": "white",
            "linecolor": "white",
            "ticks": ""
           }
          },
          "scene": {
           "xaxis": {
            "backgroundcolor": "#E5ECF6",
            "gridcolor": "white",
            "gridwidth": 2,
            "linecolor": "white",
            "showbackground": true,
            "ticks": "",
            "zerolinecolor": "white"
           },
           "yaxis": {
            "backgroundcolor": "#E5ECF6",
            "gridcolor": "white",
            "gridwidth": 2,
            "linecolor": "white",
            "showbackground": true,
            "ticks": "",
            "zerolinecolor": "white"
           },
           "zaxis": {
            "backgroundcolor": "#E5ECF6",
            "gridcolor": "white",
            "gridwidth": 2,
            "linecolor": "white",
            "showbackground": true,
            "ticks": "",
            "zerolinecolor": "white"
           }
          },
          "shapedefaults": {
           "line": {
            "color": "#2a3f5f"
           }
          },
          "ternary": {
           "aaxis": {
            "gridcolor": "white",
            "linecolor": "white",
            "ticks": ""
           },
           "baxis": {
            "gridcolor": "white",
            "linecolor": "white",
            "ticks": ""
           },
           "bgcolor": "#E5ECF6",
           "caxis": {
            "gridcolor": "white",
            "linecolor": "white",
            "ticks": ""
           }
          },
          "title": {
           "x": 0.05
          },
          "xaxis": {
           "automargin": true,
           "gridcolor": "white",
           "linecolor": "white",
           "ticks": "",
           "title": {
            "standoff": 15
           },
           "zerolinecolor": "white",
           "zerolinewidth": 2
          },
          "yaxis": {
           "automargin": true,
           "gridcolor": "white",
           "linecolor": "white",
           "ticks": "",
           "title": {
            "standoff": 15
           },
           "zerolinecolor": "white",
           "zerolinewidth": 2
          }
         }
        },
        "title": {
         "font": {
          "color": "Black",
          "size": 25
         },
         "text": "<b>USA Heart Disease Mortality Rate</b>",
         "x": 0.5,
         "y": 0.9
        },
        "width": 1000
       }
      }
     },
     "metadata": {},
     "output_type": "display_data"
    }
   ],
   "source": [
    "fig = go.Figure(data=go.Choropleth(\n",
    "    locations=state_df_pivoted['State'],\n",
    "    z=state_df_pivoted['Overall Rate'],\n",
    "    locationmode='USA-states',\n",
    "    colorscale='Magma_r',\n",
    "    zmin=200, \n",
    "    zmax=600,  \n",
    "    autocolorscale=False,\n",
    "    marker_line_color='white',\n",
    "    marker_line_width=0.5,\n",
    "    colorbar_title=\"Mortality Rate (Per 100,000)\",\n",
    "    hoverinfo='text',\n",
    "    customdata=state_df_pivoted[['Full State Name', 'Male Rate', 'Female Rate']],\n",
    "    hovertemplate=\"<span style='font-size: 15px;'><b>%{customdata[0]}</b></span><br>\" +  # Display the state name\n",
    "                  \"Mortality Rate: %{z}<br>\" +               # Display the overall mortality rate\n",
    "                  # \"Male Rate:     %{customdata[1]}<br>\" +   # Display the male mortality rate\n",
    "                  # \"Female Rate: %{customdata[2]}<br>\" + # Display the female mortality rate\n",
    "                  \"<extra></extra>\",  # Remove the default hover text\n",
    "))\n",
    "\n",
    "fig.update_layout(\n",
    "    title_text = \"<b>USA Heart Disease Mortality Rate</b>\",\n",
    "    title_x=0.5,  # Center the title\n",
    "    title_y=0.9, # Center the title\n",
    "    geo_scope= 'usa',\n",
    "    width = 1000,\n",
    "    height = 600,\n",
    "    showlegend=False,\n",
    "    paper_bgcolor='White',\n",
    "    title_font_color='Black',\n",
    "    title_font_size=25,\n",
    "    margin=dict(l=10, r=10, t=50, b=10)  # Adjust the margins (left, right, top, bottom)\n",
    ")\n",
    "\n",
    "fig.show()"
   ]
  },
  {
   "cell_type": "code",
   "execution_count": 16,
   "metadata": {},
   "outputs": [
    {
     "data": {
      "text/html": [
       "<div>\n",
       "<style scoped>\n",
       "    .dataframe tbody tr th:only-of-type {\n",
       "        vertical-align: middle;\n",
       "    }\n",
       "\n",
       "    .dataframe tbody tr th {\n",
       "        vertical-align: top;\n",
       "    }\n",
       "\n",
       "    .dataframe thead th {\n",
       "        text-align: right;\n",
       "    }\n",
       "</style>\n",
       "<table border=\"1\" class=\"dataframe\">\n",
       "  <thead>\n",
       "    <tr style=\"text-align: right;\">\n",
       "      <th>Gender</th>\n",
       "      <th>State</th>\n",
       "      <th>Female Rate</th>\n",
       "      <th>Male Rate</th>\n",
       "      <th>Overall Rate</th>\n",
       "      <th>Full State Name</th>\n",
       "      <th>M/F Difference</th>\n",
       "    </tr>\n",
       "  </thead>\n",
       "  <tbody>\n",
       "    <tr>\n",
       "      <th>39</th>\n",
       "      <td>OK</td>\n",
       "      <td>376.9</td>\n",
       "      <td>596.7</td>\n",
       "      <td>477.7</td>\n",
       "      <td>Oklahoma</td>\n",
       "      <td>219.8</td>\n",
       "    </tr>\n",
       "    <tr>\n",
       "      <th>28</th>\n",
       "      <td>MS</td>\n",
       "      <td>364.4</td>\n",
       "      <td>596.8</td>\n",
       "      <td>467.8</td>\n",
       "      <td>Mississippi</td>\n",
       "      <td>232.4</td>\n",
       "    </tr>\n",
       "    <tr>\n",
       "      <th>1</th>\n",
       "      <td>AL</td>\n",
       "      <td>356.5</td>\n",
       "      <td>570.3</td>\n",
       "      <td>451.9</td>\n",
       "      <td>Alabama</td>\n",
       "      <td>213.8</td>\n",
       "    </tr>\n",
       "    <tr>\n",
       "      <th>2</th>\n",
       "      <td>AR</td>\n",
       "      <td>344.8</td>\n",
       "      <td>549.1</td>\n",
       "      <td>438.2</td>\n",
       "      <td>Arkansas</td>\n",
       "      <td>204.3</td>\n",
       "    </tr>\n",
       "    <tr>\n",
       "      <th>20</th>\n",
       "      <td>LA</td>\n",
       "      <td>333.0</td>\n",
       "      <td>544.9</td>\n",
       "      <td>427.8</td>\n",
       "      <td>Louisiana</td>\n",
       "      <td>211.9</td>\n",
       "    </tr>\n",
       "  </tbody>\n",
       "</table>\n",
       "</div>"
      ],
      "text/plain": [
       "Gender State  Female Rate  Male Rate  Overall Rate Full State Name  \\\n",
       "39        OK        376.9      596.7         477.7        Oklahoma   \n",
       "28        MS        364.4      596.8         467.8     Mississippi   \n",
       "1         AL        356.5      570.3         451.9         Alabama   \n",
       "2         AR        344.8      549.1         438.2        Arkansas   \n",
       "20        LA        333.0      544.9         427.8       Louisiana   \n",
       "\n",
       "Gender  M/F Difference  \n",
       "39               219.8  \n",
       "28               232.4  \n",
       "1                213.8  \n",
       "2                204.3  \n",
       "20               211.9  "
      ]
     },
     "execution_count": 16,
     "metadata": {},
     "output_type": "execute_result"
    }
   ],
   "source": [
    "state_df_sorted = state_df_pivoted.sort_values(by='Overall Rate', ascending=False)\n",
    "state_df_sorted.head()"
   ]
  },
  {
   "cell_type": "code",
   "execution_count": 17,
   "metadata": {},
   "outputs": [
    {
     "data": {
      "application/vnd.plotly.v1+json": {
       "config": {
        "plotlyServerURL": "https://plot.ly"
       },
       "data": [
        {
         "hovertemplate": "<b>%{hovertext}</b><br><br>State=AK<br>Overall Rate=%{marker.size}<br>M/F Difference=%{y}<extra></extra>",
         "hovertext": [
          "Alaska"
         ],
         "legendgroup": "AK",
         "marker": {
          "color": "#636efa",
          "size": [
           272.2
          ],
          "sizemode": "area",
          "sizeref": 1.19425,
          "symbol": "circle"
         },
         "mode": "markers",
         "name": "AK",
         "orientation": "v",
         "showlegend": false,
         "type": "scatter",
         "x": [
          272.2
         ],
         "xaxis": "x",
         "y": [
          141.8
         ],
         "yaxis": "y"
        },
        {
         "hovertemplate": "<b>%{hovertext}</b><br><br>State=AL<br>Overall Rate=%{marker.size}<br>M/F Difference=%{y}<extra></extra>",
         "hovertext": [
          "Alabama"
         ],
         "legendgroup": "AL",
         "marker": {
          "color": "#EF553B",
          "size": [
           451.9
          ],
          "sizemode": "area",
          "sizeref": 1.19425,
          "symbol": "circle"
         },
         "mode": "markers",
         "name": "AL",
         "orientation": "v",
         "showlegend": false,
         "type": "scatter",
         "x": [
          451.9
         ],
         "xaxis": "x",
         "y": [
          213.79999999999995
         ],
         "yaxis": "y"
        },
        {
         "hovertemplate": "<b>%{hovertext}</b><br><br>State=AR<br>Overall Rate=%{marker.size}<br>M/F Difference=%{y}<extra></extra>",
         "hovertext": [
          "Arkansas"
         ],
         "legendgroup": "AR",
         "marker": {
          "color": "#00cc96",
          "size": [
           438.2
          ],
          "sizemode": "area",
          "sizeref": 1.19425,
          "symbol": "circle"
         },
         "mode": "markers",
         "name": "AR",
         "orientation": "v",
         "showlegend": false,
         "type": "scatter",
         "x": [
          438.2
         ],
         "xaxis": "x",
         "y": [
          204.3
         ],
         "yaxis": "y"
        },
        {
         "hovertemplate": "<b>%{hovertext}</b><br><br>State=AZ<br>Overall Rate=%{marker.size}<br>M/F Difference=%{y}<extra></extra>",
         "hovertext": [
          "Arizona"
         ],
         "legendgroup": "AZ",
         "marker": {
          "color": "#ab63fa",
          "size": [
           282.1
          ],
          "sizemode": "area",
          "sizeref": 1.19425,
          "symbol": "circle"
         },
         "mode": "markers",
         "name": "AZ",
         "orientation": "v",
         "showlegend": false,
         "type": "scatter",
         "x": [
          282.1
         ],
         "xaxis": "x",
         "y": [
          134.29999999999998
         ],
         "yaxis": "y"
        },
        {
         "hovertemplate": "<b>%{hovertext}</b><br><br>State=CA<br>Overall Rate=%{marker.size}<br>M/F Difference=%{y}<extra></extra>",
         "hovertext": [
          "California"
         ],
         "legendgroup": "CA",
         "marker": {
          "color": "#FFA15A",
          "size": [
           277.4
          ],
          "sizemode": "area",
          "sizeref": 1.19425,
          "symbol": "circle"
         },
         "mode": "markers",
         "name": "CA",
         "orientation": "v",
         "showlegend": false,
         "type": "scatter",
         "x": [
          277.4
         ],
         "xaxis": "x",
         "y": [
          147
         ],
         "yaxis": "y"
        },
        {
         "hovertemplate": "<b>%{hovertext}</b><br><br>State=CO<br>Overall Rate=%{marker.size}<br>M/F Difference=%{y}<extra></extra>",
         "hovertext": [
          "Colorado"
         ],
         "legendgroup": "CO",
         "marker": {
          "color": "#19d3f3",
          "size": [
           252.6
          ],
          "sizemode": "area",
          "sizeref": 1.19425,
          "symbol": "circle"
         },
         "mode": "markers",
         "name": "CO",
         "orientation": "v",
         "showlegend": false,
         "type": "scatter",
         "x": [
          252.6
         ],
         "xaxis": "x",
         "y": [
          111.20000000000002
         ],
         "yaxis": "y"
        },
        {
         "hovertemplate": "<b>%{hovertext}</b><br><br>State=CT<br>Overall Rate=%{marker.size}<br>M/F Difference=%{y}<extra></extra>",
         "hovertext": [
          "Connecticut"
         ],
         "legendgroup": "CT",
         "marker": {
          "color": "#FF6692",
          "size": [
           270.6
          ],
          "sizemode": "area",
          "sizeref": 1.19425,
          "symbol": "circle"
         },
         "mode": "markers",
         "name": "CT",
         "orientation": "v",
         "showlegend": false,
         "type": "scatter",
         "x": [
          270.6
         ],
         "xaxis": "x",
         "y": [
          136.89999999999998
         ],
         "yaxis": "y"
        },
        {
         "hovertemplate": "<b>%{hovertext}</b><br><br>State=DE<br>Overall Rate=%{marker.size}<br>M/F Difference=%{y}<extra></extra>",
         "hovertext": [
          "Delaware"
         ],
         "legendgroup": "DE",
         "marker": {
          "color": "#B6E880",
          "size": [
           307.3
          ],
          "sizemode": "area",
          "sizeref": 1.19425,
          "symbol": "circle"
         },
         "mode": "markers",
         "name": "DE",
         "orientation": "v",
         "showlegend": false,
         "type": "scatter",
         "x": [
          307.3
         ],
         "xaxis": "x",
         "y": [
          154.2
         ],
         "yaxis": "y"
        },
        {
         "hovertemplate": "<b>%{hovertext}</b><br><br>State=FL<br>Overall Rate=%{marker.size}<br>M/F Difference=%{y}<extra></extra>",
         "hovertext": [
          "Florida"
         ],
         "legendgroup": "FL",
         "marker": {
          "color": "#FF97FF",
          "size": [
           280.1
          ],
          "sizemode": "area",
          "sizeref": 1.19425,
          "symbol": "circle"
         },
         "mode": "markers",
         "name": "FL",
         "orientation": "v",
         "showlegend": false,
         "type": "scatter",
         "x": [
          280.1
         ],
         "xaxis": "x",
         "y": [
          142.3
         ],
         "yaxis": "y"
        },
        {
         "hovertemplate": "<b>%{hovertext}</b><br><br>State=GA<br>Overall Rate=%{marker.size}<br>M/F Difference=%{y}<extra></extra>",
         "hovertext": [
          "Georgia"
         ],
         "legendgroup": "GA",
         "marker": {
          "color": "#FECB52",
          "size": [
           357.2
          ],
          "sizemode": "area",
          "sizeref": 1.19425,
          "symbol": "circle"
         },
         "mode": "markers",
         "name": "GA",
         "orientation": "v",
         "showlegend": false,
         "type": "scatter",
         "x": [
          357.2
         ],
         "xaxis": "x",
         "y": [
          168.60000000000002
         ],
         "yaxis": "y"
        },
        {
         "hovertemplate": "<b>%{hovertext}</b><br><br>State=HI<br>Overall Rate=%{marker.size}<br>M/F Difference=%{y}<extra></extra>",
         "hovertext": [
          "Hawaii"
         ],
         "legendgroup": "HI",
         "marker": {
          "color": "#636efa",
          "size": [
           238.7
          ],
          "sizemode": "area",
          "sizeref": 1.19425,
          "symbol": "circle"
         },
         "mode": "markers",
         "name": "HI",
         "orientation": "v",
         "showlegend": false,
         "type": "scatter",
         "x": [
          238.7
         ],
         "xaxis": "x",
         "y": [
          165.7
         ],
         "yaxis": "y"
        },
        {
         "hovertemplate": "<b>%{hovertext}</b><br><br>State=IA<br>Overall Rate=%{marker.size}<br>M/F Difference=%{y}<extra></extra>",
         "hovertext": [
          "Iowa"
         ],
         "legendgroup": "IA",
         "marker": {
          "color": "#EF553B",
          "size": [
           342.9
          ],
          "sizemode": "area",
          "sizeref": 1.19425,
          "symbol": "circle"
         },
         "mode": "markers",
         "name": "IA",
         "orientation": "v",
         "showlegend": false,
         "type": "scatter",
         "x": [
          342.9
         ],
         "xaxis": "x",
         "y": [
          174.39999999999998
         ],
         "yaxis": "y"
        },
        {
         "hovertemplate": "<b>%{hovertext}</b><br><br>State=ID<br>Overall Rate=%{marker.size}<br>M/F Difference=%{y}<extra></extra>",
         "hovertext": [
          "Idaho"
         ],
         "legendgroup": "ID",
         "marker": {
          "color": "#00cc96",
          "size": [
           302.9
          ],
          "sizemode": "area",
          "sizeref": 1.19425,
          "symbol": "circle"
         },
         "mode": "markers",
         "name": "ID",
         "orientation": "v",
         "showlegend": false,
         "type": "scatter",
         "x": [
          302.9
         ],
         "xaxis": "x",
         "y": [
          130.79999999999998
         ],
         "yaxis": "y"
        },
        {
         "hovertemplate": "<b>%{hovertext}</b><br><br>State=IL<br>Overall Rate=%{marker.size}<br>M/F Difference=%{y}<extra></extra>",
         "hovertext": [
          "Illinois"
         ],
         "legendgroup": "IL",
         "marker": {
          "color": "#ab63fa",
          "size": [
           325.2
          ],
          "sizemode": "area",
          "sizeref": 1.19425,
          "symbol": "circle"
         },
         "mode": "markers",
         "name": "IL",
         "orientation": "v",
         "showlegend": false,
         "type": "scatter",
         "x": [
          325.2
         ],
         "xaxis": "x",
         "y": [
          166.70000000000002
         ],
         "yaxis": "y"
        },
        {
         "hovertemplate": "<b>%{hovertext}</b><br><br>State=IN<br>Overall Rate=%{marker.size}<br>M/F Difference=%{y}<extra></extra>",
         "hovertext": [
          "Indiana"
         ],
         "legendgroup": "IN",
         "marker": {
          "color": "#FFA15A",
          "size": [
           357
          ],
          "sizemode": "area",
          "sizeref": 1.19425,
          "symbol": "circle"
         },
         "mode": "markers",
         "name": "IN",
         "orientation": "v",
         "showlegend": false,
         "type": "scatter",
         "x": [
          357
         ],
         "xaxis": "x",
         "y": [
          176
         ],
         "yaxis": "y"
        },
        {
         "hovertemplate": "<b>%{hovertext}</b><br><br>State=KS<br>Overall Rate=%{marker.size}<br>M/F Difference=%{y}<extra></extra>",
         "hovertext": [
          "Kansas"
         ],
         "legendgroup": "KS",
         "marker": {
          "color": "#19d3f3",
          "size": [
           328.9
          ],
          "sizemode": "area",
          "sizeref": 1.19425,
          "symbol": "circle"
         },
         "mode": "markers",
         "name": "KS",
         "orientation": "v",
         "showlegend": false,
         "type": "scatter",
         "x": [
          328.9
         ],
         "xaxis": "x",
         "y": [
          163.00000000000003
         ],
         "yaxis": "y"
        },
        {
         "hovertemplate": "<b>%{hovertext}</b><br><br>State=KY<br>Overall Rate=%{marker.size}<br>M/F Difference=%{y}<extra></extra>",
         "hovertext": [
          "Kentucky"
         ],
         "legendgroup": "KY",
         "marker": {
          "color": "#FF6692",
          "size": [
           398.1
          ],
          "sizemode": "area",
          "sizeref": 1.19425,
          "symbol": "circle"
         },
         "mode": "markers",
         "name": "KY",
         "orientation": "v",
         "showlegend": false,
         "type": "scatter",
         "x": [
          398.1
         ],
         "xaxis": "x",
         "y": [
          196.39999999999998
         ],
         "yaxis": "y"
        },
        {
         "hovertemplate": "<b>%{hovertext}</b><br><br>State=LA<br>Overall Rate=%{marker.size}<br>M/F Difference=%{y}<extra></extra>",
         "hovertext": [
          "Louisiana"
         ],
         "legendgroup": "LA",
         "marker": {
          "color": "#B6E880",
          "size": [
           427.8
          ],
          "sizemode": "area",
          "sizeref": 1.19425,
          "symbol": "circle"
         },
         "mode": "markers",
         "name": "LA",
         "orientation": "v",
         "showlegend": false,
         "type": "scatter",
         "x": [
          427.8
         ],
         "xaxis": "x",
         "y": [
          211.89999999999998
         ],
         "yaxis": "y"
        },
        {
         "hovertemplate": "<b>%{hovertext}</b><br><br>State=MA<br>Overall Rate=%{marker.size}<br>M/F Difference=%{y}<extra></extra>",
         "hovertext": [
          "Massachusetts"
         ],
         "legendgroup": "MA",
         "marker": {
          "color": "#FF97FF",
          "size": [
           250.8
          ],
          "sizemode": "area",
          "sizeref": 1.19425,
          "symbol": "circle"
         },
         "mode": "markers",
         "name": "MA",
         "orientation": "v",
         "showlegend": false,
         "type": "scatter",
         "x": [
          250.8
         ],
         "xaxis": "x",
         "y": [
          134.20000000000002
         ],
         "yaxis": "y"
        },
        {
         "hovertemplate": "<b>%{hovertext}</b><br><br>State=MD<br>Overall Rate=%{marker.size}<br>M/F Difference=%{y}<extra></extra>",
         "hovertext": [
          "Maryland"
         ],
         "legendgroup": "MD",
         "marker": {
          "color": "#FECB52",
          "size": [
           317.6
          ],
          "sizemode": "area",
          "sizeref": 1.19425,
          "symbol": "circle"
         },
         "mode": "markers",
         "name": "MD",
         "orientation": "v",
         "showlegend": false,
         "type": "scatter",
         "x": [
          317.6
         ],
         "xaxis": "x",
         "y": [
          155.10000000000002
         ],
         "yaxis": "y"
        },
        {
         "hovertemplate": "<b>%{hovertext}</b><br><br>State=ME<br>Overall Rate=%{marker.size}<br>M/F Difference=%{y}<extra></extra>",
         "hovertext": [
          "Maine"
         ],
         "legendgroup": "ME",
         "marker": {
          "color": "#636efa",
          "size": [
           294.1
          ],
          "sizemode": "area",
          "sizeref": 1.19425,
          "symbol": "circle"
         },
         "mode": "markers",
         "name": "ME",
         "orientation": "v",
         "showlegend": false,
         "type": "scatter",
         "x": [
          294.1
         ],
         "xaxis": "x",
         "y": [
          151.49999999999997
         ],
         "yaxis": "y"
        },
        {
         "hovertemplate": "<b>%{hovertext}</b><br><br>State=MI<br>Overall Rate=%{marker.size}<br>M/F Difference=%{y}<extra></extra>",
         "hovertext": [
          "Michigan"
         ],
         "legendgroup": "MI",
         "marker": {
          "color": "#EF553B",
          "size": [
           392.9
          ],
          "sizemode": "area",
          "sizeref": 1.19425,
          "symbol": "circle"
         },
         "mode": "markers",
         "name": "MI",
         "orientation": "v",
         "showlegend": false,
         "type": "scatter",
         "x": [
          392.9
         ],
         "xaxis": "x",
         "y": [
          184.3
         ],
         "yaxis": "y"
        },
        {
         "hovertemplate": "<b>%{hovertext}</b><br><br>State=MN<br>Overall Rate=%{marker.size}<br>M/F Difference=%{y}<extra></extra>",
         "hovertext": [
          "Minnesota"
         ],
         "legendgroup": "MN",
         "marker": {
          "color": "#00cc96",
          "size": [
           231.4
          ],
          "sizemode": "area",
          "sizeref": 1.19425,
          "symbol": "circle"
         },
         "mode": "markers",
         "name": "MN",
         "orientation": "v",
         "showlegend": false,
         "type": "scatter",
         "x": [
          231.4
         ],
         "xaxis": "x",
         "y": [
          115.69999999999999
         ],
         "yaxis": "y"
        },
        {
         "hovertemplate": "<b>%{hovertext}</b><br><br>State=MO<br>Overall Rate=%{marker.size}<br>M/F Difference=%{y}<extra></extra>",
         "hovertext": [
          "Missouri"
         ],
         "legendgroup": "MO",
         "marker": {
          "color": "#ab63fa",
          "size": [
           377.7
          ],
          "sizemode": "area",
          "sizeref": 1.19425,
          "symbol": "circle"
         },
         "mode": "markers",
         "name": "MO",
         "orientation": "v",
         "showlegend": false,
         "type": "scatter",
         "x": [
          377.7
         ],
         "xaxis": "x",
         "y": [
          191.5
         ],
         "yaxis": "y"
        },
        {
         "hovertemplate": "<b>%{hovertext}</b><br><br>State=MS<br>Overall Rate=%{marker.size}<br>M/F Difference=%{y}<extra></extra>",
         "hovertext": [
          "Mississippi"
         ],
         "legendgroup": "MS",
         "marker": {
          "color": "#FFA15A",
          "size": [
           467.8
          ],
          "sizemode": "area",
          "sizeref": 1.19425,
          "symbol": "circle"
         },
         "mode": "markers",
         "name": "MS",
         "orientation": "v",
         "showlegend": false,
         "type": "scatter",
         "x": [
          467.8
         ],
         "xaxis": "x",
         "y": [
          232.39999999999998
         ],
         "yaxis": "y"
        },
        {
         "hovertemplate": "<b>%{hovertext}</b><br><br>State=MT<br>Overall Rate=%{marker.size}<br>M/F Difference=%{y}<extra></extra>",
         "hovertext": [
          "Montana"
         ],
         "legendgroup": "MT",
         "marker": {
          "color": "#19d3f3",
          "size": [
           319.7
          ],
          "sizemode": "area",
          "sizeref": 1.19425,
          "symbol": "circle"
         },
         "mode": "markers",
         "name": "MT",
         "orientation": "v",
         "showlegend": false,
         "type": "scatter",
         "x": [
          319.7
         ],
         "xaxis": "x",
         "y": [
          163.6
         ],
         "yaxis": "y"
        },
        {
         "hovertemplate": "<b>%{hovertext}</b><br><br>State=NC<br>Overall Rate=%{marker.size}<br>M/F Difference=%{y}<extra></extra>",
         "hovertext": [
          "North Carolina"
         ],
         "legendgroup": "NC",
         "marker": {
          "color": "#FF6692",
          "size": [
           310.8
          ],
          "sizemode": "area",
          "sizeref": 1.19425,
          "symbol": "circle"
         },
         "mode": "markers",
         "name": "NC",
         "orientation": "v",
         "showlegend": false,
         "type": "scatter",
         "x": [
          310.8
         ],
         "xaxis": "x",
         "y": [
          157.3
         ],
         "yaxis": "y"
        },
        {
         "hovertemplate": "<b>%{hovertext}</b><br><br>State=ND<br>Overall Rate=%{marker.size}<br>M/F Difference=%{y}<extra></extra>",
         "hovertext": [
          "North Dakota"
         ],
         "legendgroup": "ND",
         "marker": {
          "color": "#B6E880",
          "size": [
           288.3
          ],
          "sizemode": "area",
          "sizeref": 1.19425,
          "symbol": "circle"
         },
         "mode": "markers",
         "name": "ND",
         "orientation": "v",
         "showlegend": false,
         "type": "scatter",
         "x": [
          288.3
         ],
         "xaxis": "x",
         "y": [
          161
         ],
         "yaxis": "y"
        },
        {
         "hovertemplate": "<b>%{hovertext}</b><br><br>State=NE<br>Overall Rate=%{marker.size}<br>M/F Difference=%{y}<extra></extra>",
         "hovertext": [
          "Nebraska"
         ],
         "legendgroup": "NE",
         "marker": {
          "color": "#FF97FF",
          "size": [
           289.9
          ],
          "sizemode": "area",
          "sizeref": 1.19425,
          "symbol": "circle"
         },
         "mode": "markers",
         "name": "NE",
         "orientation": "v",
         "showlegend": false,
         "type": "scatter",
         "x": [
          289.9
         ],
         "xaxis": "x",
         "y": [
          131.39999999999998
         ],
         "yaxis": "y"
        },
        {
         "hovertemplate": "<b>%{hovertext}</b><br><br>State=NH<br>Overall Rate=%{marker.size}<br>M/F Difference=%{y}<extra></extra>",
         "hovertext": [
          "New Hampshire"
         ],
         "legendgroup": "NH",
         "marker": {
          "color": "#FECB52",
          "size": [
           286.9
          ],
          "sizemode": "area",
          "sizeref": 1.19425,
          "symbol": "circle"
         },
         "mode": "markers",
         "name": "NH",
         "orientation": "v",
         "showlegend": false,
         "type": "scatter",
         "x": [
          286.9
         ],
         "xaxis": "x",
         "y": [
          155.90000000000003
         ],
         "yaxis": "y"
        },
        {
         "hovertemplate": "<b>%{hovertext}</b><br><br>State=NJ<br>Overall Rate=%{marker.size}<br>M/F Difference=%{y}<extra></extra>",
         "hovertext": [
          "New Jersey"
         ],
         "legendgroup": "NJ",
         "marker": {
          "color": "#636efa",
          "size": [
           311.7
          ],
          "sizemode": "area",
          "sizeref": 1.19425,
          "symbol": "circle"
         },
         "mode": "markers",
         "name": "NJ",
         "orientation": "v",
         "showlegend": false,
         "type": "scatter",
         "x": [
          311.7
         ],
         "xaxis": "x",
         "y": [
          148.09999999999997
         ],
         "yaxis": "y"
        },
        {
         "hovertemplate": "<b>%{hovertext}</b><br><br>State=NM<br>Overall Rate=%{marker.size}<br>M/F Difference=%{y}<extra></extra>",
         "hovertext": [
          "New Mexico"
         ],
         "legendgroup": "NM",
         "marker": {
          "color": "#EF553B",
          "size": [
           302.2
          ],
          "sizemode": "area",
          "sizeref": 1.19425,
          "symbol": "circle"
         },
         "mode": "markers",
         "name": "NM",
         "orientation": "v",
         "showlegend": false,
         "type": "scatter",
         "x": [
          302.2
         ],
         "xaxis": "x",
         "y": [
          153.39999999999998
         ],
         "yaxis": "y"
        },
        {
         "hovertemplate": "<b>%{hovertext}</b><br><br>State=NV<br>Overall Rate=%{marker.size}<br>M/F Difference=%{y}<extra></extra>",
         "hovertext": [
          "Nevada"
         ],
         "legendgroup": "NV",
         "marker": {
          "color": "#00cc96",
          "size": [
           393.1
          ],
          "sizemode": "area",
          "sizeref": 1.19425,
          "symbol": "circle"
         },
         "mode": "markers",
         "name": "NV",
         "orientation": "v",
         "showlegend": false,
         "type": "scatter",
         "x": [
          393.1
         ],
         "xaxis": "x",
         "y": [
          198
         ],
         "yaxis": "y"
        },
        {
         "hovertemplate": "<b>%{hovertext}</b><br><br>State=NY<br>Overall Rate=%{marker.size}<br>M/F Difference=%{y}<extra></extra>",
         "hovertext": [
          "New York"
         ],
         "legendgroup": "NY",
         "marker": {
          "color": "#ab63fa",
          "size": [
           332.1
          ],
          "sizemode": "area",
          "sizeref": 1.19425,
          "symbol": "circle"
         },
         "mode": "markers",
         "name": "NY",
         "orientation": "v",
         "showlegend": false,
         "type": "scatter",
         "x": [
          332.1
         ],
         "xaxis": "x",
         "y": [
          153.7
         ],
         "yaxis": "y"
        },
        {
         "hovertemplate": "<b>%{hovertext}</b><br><br>State=OH<br>Overall Rate=%{marker.size}<br>M/F Difference=%{y}<extra></extra>",
         "hovertext": [
          "Ohio"
         ],
         "legendgroup": "OH",
         "marker": {
          "color": "#FFA15A",
          "size": [
           380.8
          ],
          "sizemode": "area",
          "sizeref": 1.19425,
          "symbol": "circle"
         },
         "mode": "markers",
         "name": "OH",
         "orientation": "v",
         "showlegend": false,
         "type": "scatter",
         "x": [
          380.8
         ],
         "xaxis": "x",
         "y": [
          183.2
         ],
         "yaxis": "y"
        },
        {
         "hovertemplate": "<b>%{hovertext}</b><br><br>State=OK<br>Overall Rate=%{marker.size}<br>M/F Difference=%{y}<extra></extra>",
         "hovertext": [
          "Oklahoma"
         ],
         "legendgroup": "OK",
         "marker": {
          "color": "#19d3f3",
          "size": [
           477.7
          ],
          "sizemode": "area",
          "sizeref": 1.19425,
          "symbol": "circle"
         },
         "mode": "markers",
         "name": "OK",
         "orientation": "v",
         "showlegend": false,
         "type": "scatter",
         "x": [
          477.7
         ],
         "xaxis": "x",
         "y": [
          219.80000000000007
         ],
         "yaxis": "y"
        },
        {
         "hovertemplate": "<b>%{hovertext}</b><br><br>State=OR<br>Overall Rate=%{marker.size}<br>M/F Difference=%{y}<extra></extra>",
         "hovertext": [
          "Oregon"
         ],
         "legendgroup": "OR",
         "marker": {
          "color": "#FF6692",
          "size": [
           267.3
          ],
          "sizemode": "area",
          "sizeref": 1.19425,
          "symbol": "circle"
         },
         "mode": "markers",
         "name": "OR",
         "orientation": "v",
         "showlegend": false,
         "type": "scatter",
         "x": [
          267.3
         ],
         "xaxis": "x",
         "y": [
          138.7
         ],
         "yaxis": "y"
        },
        {
         "hovertemplate": "<b>%{hovertext}</b><br><br>State=PA<br>Overall Rate=%{marker.size}<br>M/F Difference=%{y}<extra></extra>",
         "hovertext": [
          "Pennsylvania"
         ],
         "legendgroup": "PA",
         "marker": {
          "color": "#B6E880",
          "size": [
           341.7
          ],
          "sizemode": "area",
          "sizeref": 1.19425,
          "symbol": "circle"
         },
         "mode": "markers",
         "name": "PA",
         "orientation": "v",
         "showlegend": false,
         "type": "scatter",
         "x": [
          341.7
         ],
         "xaxis": "x",
         "y": [
          169.3
         ],
         "yaxis": "y"
        },
        {
         "hovertemplate": "<b>%{hovertext}</b><br><br>State=RI<br>Overall Rate=%{marker.size}<br>M/F Difference=%{y}<extra></extra>",
         "hovertext": [
          "Rhode Island"
         ],
         "legendgroup": "RI",
         "marker": {
          "color": "#FF97FF",
          "size": [
           303
          ],
          "sizemode": "area",
          "sizeref": 1.19425,
          "symbol": "circle"
         },
         "mode": "markers",
         "name": "RI",
         "orientation": "v",
         "showlegend": false,
         "type": "scatter",
         "x": [
          303
         ],
         "xaxis": "x",
         "y": [
          155.1
         ],
         "yaxis": "y"
        },
        {
         "hovertemplate": "<b>%{hovertext}</b><br><br>State=SC<br>Overall Rate=%{marker.size}<br>M/F Difference=%{y}<extra></extra>",
         "hovertext": [
          "South Carolina"
         ],
         "legendgroup": "SC",
         "marker": {
          "color": "#FECB52",
          "size": [
           337.3
          ],
          "sizemode": "area",
          "sizeref": 1.19425,
          "symbol": "circle"
         },
         "mode": "markers",
         "name": "SC",
         "orientation": "v",
         "showlegend": false,
         "type": "scatter",
         "x": [
          337.3
         ],
         "xaxis": "x",
         "y": [
          169.2
         ],
         "yaxis": "y"
        },
        {
         "hovertemplate": "<b>%{hovertext}</b><br><br>State=SD<br>Overall Rate=%{marker.size}<br>M/F Difference=%{y}<extra></extra>",
         "hovertext": [
          "South Dakota"
         ],
         "legendgroup": "SD",
         "marker": {
          "color": "#636efa",
          "size": [
           300.7
          ],
          "sizemode": "area",
          "sizeref": 1.19425,
          "symbol": "circle"
         },
         "mode": "markers",
         "name": "SD",
         "orientation": "v",
         "showlegend": false,
         "type": "scatter",
         "x": [
          300.7
         ],
         "xaxis": "x",
         "y": [
          185.99999999999997
         ],
         "yaxis": "y"
        },
        {
         "hovertemplate": "<b>%{hovertext}</b><br><br>State=TN<br>Overall Rate=%{marker.size}<br>M/F Difference=%{y}<extra></extra>",
         "hovertext": [
          "Tennessee"
         ],
         "legendgroup": "TN",
         "marker": {
          "color": "#EF553B",
          "size": [
           411.2
          ],
          "sizemode": "area",
          "sizeref": 1.19425,
          "symbol": "circle"
         },
         "mode": "markers",
         "name": "TN",
         "orientation": "v",
         "showlegend": false,
         "type": "scatter",
         "x": [
          411.2
         ],
         "xaxis": "x",
         "y": [
          204.09999999999997
         ],
         "yaxis": "y"
        },
        {
         "hovertemplate": "<b>%{hovertext}</b><br><br>State=TX<br>Overall Rate=%{marker.size}<br>M/F Difference=%{y}<extra></extra>",
         "hovertext": [
          "Texas"
         ],
         "legendgroup": "TX",
         "marker": {
          "color": "#00cc96",
          "size": [
           334.5
          ],
          "sizemode": "area",
          "sizeref": 1.19425,
          "symbol": "circle"
         },
         "mode": "markers",
         "name": "TX",
         "orientation": "v",
         "showlegend": false,
         "type": "scatter",
         "x": [
          334.5
         ],
         "xaxis": "x",
         "y": [
          163.5
         ],
         "yaxis": "y"
        },
        {
         "hovertemplate": "<b>%{hovertext}</b><br><br>State=UT<br>Overall Rate=%{marker.size}<br>M/F Difference=%{y}<extra></extra>",
         "hovertext": [
          "Utah"
         ],
         "legendgroup": "UT",
         "marker": {
          "color": "#ab63fa",
          "size": [
           300.1
          ],
          "sizemode": "area",
          "sizeref": 1.19425,
          "symbol": "circle"
         },
         "mode": "markers",
         "name": "UT",
         "orientation": "v",
         "showlegend": false,
         "type": "scatter",
         "x": [
          300.1
         ],
         "xaxis": "x",
         "y": [
          89.59999999999997
         ],
         "yaxis": "y"
        },
        {
         "hovertemplate": "<b>%{hovertext}</b><br><br>State=VA<br>Overall Rate=%{marker.size}<br>M/F Difference=%{y}<extra></extra>",
         "hovertext": [
          "Virginia"
         ],
         "legendgroup": "VA",
         "marker": {
          "color": "#FFA15A",
          "size": [
           301.8
          ],
          "sizemode": "area",
          "sizeref": 1.19425,
          "symbol": "circle"
         },
         "mode": "markers",
         "name": "VA",
         "orientation": "v",
         "showlegend": false,
         "type": "scatter",
         "x": [
          301.8
         ],
         "xaxis": "x",
         "y": [
          144.79999999999998
         ],
         "yaxis": "y"
        },
        {
         "hovertemplate": "<b>%{hovertext}</b><br><br>State=VT<br>Overall Rate=%{marker.size}<br>M/F Difference=%{y}<extra></extra>",
         "hovertext": [
          "Vermont"
         ],
         "legendgroup": "VT",
         "marker": {
          "color": "#19d3f3",
          "size": [
           320.8
          ],
          "sizemode": "area",
          "sizeref": 1.19425,
          "symbol": "circle"
         },
         "mode": "markers",
         "name": "VT",
         "orientation": "v",
         "showlegend": false,
         "type": "scatter",
         "x": [
          320.8
         ],
         "xaxis": "x",
         "y": [
          163.29999999999998
         ],
         "yaxis": "y"
        },
        {
         "hovertemplate": "<b>%{hovertext}</b><br><br>State=WA<br>Overall Rate=%{marker.size}<br>M/F Difference=%{y}<extra></extra>",
         "hovertext": [
          "Washington"
         ],
         "legendgroup": "WA",
         "marker": {
          "color": "#FF6692",
          "size": [
           269.8
          ],
          "sizemode": "area",
          "sizeref": 1.19425,
          "symbol": "circle"
         },
         "mode": "markers",
         "name": "WA",
         "orientation": "v",
         "showlegend": false,
         "type": "scatter",
         "x": [
          269.8
         ],
         "xaxis": "x",
         "y": [
          136.4
         ],
         "yaxis": "y"
        },
        {
         "hovertemplate": "<b>%{hovertext}</b><br><br>State=WI<br>Overall Rate=%{marker.size}<br>M/F Difference=%{y}<extra></extra>",
         "hovertext": [
          "Wisconsin"
         ],
         "legendgroup": "WI",
         "marker": {
          "color": "#B6E880",
          "size": [
           318.4
          ],
          "sizemode": "area",
          "sizeref": 1.19425,
          "symbol": "circle"
         },
         "mode": "markers",
         "name": "WI",
         "orientation": "v",
         "showlegend": false,
         "type": "scatter",
         "x": [
          318.4
         ],
         "xaxis": "x",
         "y": [
          158.1
         ],
         "yaxis": "y"
        },
        {
         "hovertemplate": "<b>%{hovertext}</b><br><br>State=WV<br>Overall Rate=%{marker.size}<br>M/F Difference=%{y}<extra></extra>",
         "hovertext": [
          "West Virginia"
         ],
         "legendgroup": "WV",
         "marker": {
          "color": "#FF97FF",
          "size": [
           398.4
          ],
          "sizemode": "area",
          "sizeref": 1.19425,
          "symbol": "circle"
         },
         "mode": "markers",
         "name": "WV",
         "orientation": "v",
         "showlegend": false,
         "type": "scatter",
         "x": [
          398.4
         ],
         "xaxis": "x",
         "y": [
          176.8
         ],
         "yaxis": "y"
        },
        {
         "hovertemplate": "<b>%{hovertext}</b><br><br>State=WY<br>Overall Rate=%{marker.size}<br>M/F Difference=%{y}<extra></extra>",
         "hovertext": [
          "Wyoming"
         ],
         "legendgroup": "WY",
         "marker": {
          "color": "#FECB52",
          "size": [
           303.4
          ],
          "sizemode": "area",
          "sizeref": 1.19425,
          "symbol": "circle"
         },
         "mode": "markers",
         "name": "WY",
         "orientation": "v",
         "showlegend": false,
         "type": "scatter",
         "x": [
          303.4
         ],
         "xaxis": "x",
         "y": [
          171.49999999999997
         ],
         "yaxis": "y"
        }
       ],
       "layout": {
        "height": 600,
        "legend": {
         "itemsizing": "constant",
         "title": {
          "text": "State"
         },
         "tracegroupgap": 0
        },
        "margin": {
         "t": 60
        },
        "template": {
         "data": {
          "bar": [
           {
            "error_x": {
             "color": "#2a3f5f"
            },
            "error_y": {
             "color": "#2a3f5f"
            },
            "marker": {
             "line": {
              "color": "#E5ECF6",
              "width": 0.5
             },
             "pattern": {
              "fillmode": "overlay",
              "size": 10,
              "solidity": 0.2
             }
            },
            "type": "bar"
           }
          ],
          "barpolar": [
           {
            "marker": {
             "line": {
              "color": "#E5ECF6",
              "width": 0.5
             },
             "pattern": {
              "fillmode": "overlay",
              "size": 10,
              "solidity": 0.2
             }
            },
            "type": "barpolar"
           }
          ],
          "carpet": [
           {
            "aaxis": {
             "endlinecolor": "#2a3f5f",
             "gridcolor": "white",
             "linecolor": "white",
             "minorgridcolor": "white",
             "startlinecolor": "#2a3f5f"
            },
            "baxis": {
             "endlinecolor": "#2a3f5f",
             "gridcolor": "white",
             "linecolor": "white",
             "minorgridcolor": "white",
             "startlinecolor": "#2a3f5f"
            },
            "type": "carpet"
           }
          ],
          "choropleth": [
           {
            "colorbar": {
             "outlinewidth": 0,
             "ticks": ""
            },
            "type": "choropleth"
           }
          ],
          "contour": [
           {
            "colorbar": {
             "outlinewidth": 0,
             "ticks": ""
            },
            "colorscale": [
             [
              0,
              "#0d0887"
             ],
             [
              0.1111111111111111,
              "#46039f"
             ],
             [
              0.2222222222222222,
              "#7201a8"
             ],
             [
              0.3333333333333333,
              "#9c179e"
             ],
             [
              0.4444444444444444,
              "#bd3786"
             ],
             [
              0.5555555555555556,
              "#d8576b"
             ],
             [
              0.6666666666666666,
              "#ed7953"
             ],
             [
              0.7777777777777778,
              "#fb9f3a"
             ],
             [
              0.8888888888888888,
              "#fdca26"
             ],
             [
              1,
              "#f0f921"
             ]
            ],
            "type": "contour"
           }
          ],
          "contourcarpet": [
           {
            "colorbar": {
             "outlinewidth": 0,
             "ticks": ""
            },
            "type": "contourcarpet"
           }
          ],
          "heatmap": [
           {
            "colorbar": {
             "outlinewidth": 0,
             "ticks": ""
            },
            "colorscale": [
             [
              0,
              "#0d0887"
             ],
             [
              0.1111111111111111,
              "#46039f"
             ],
             [
              0.2222222222222222,
              "#7201a8"
             ],
             [
              0.3333333333333333,
              "#9c179e"
             ],
             [
              0.4444444444444444,
              "#bd3786"
             ],
             [
              0.5555555555555556,
              "#d8576b"
             ],
             [
              0.6666666666666666,
              "#ed7953"
             ],
             [
              0.7777777777777778,
              "#fb9f3a"
             ],
             [
              0.8888888888888888,
              "#fdca26"
             ],
             [
              1,
              "#f0f921"
             ]
            ],
            "type": "heatmap"
           }
          ],
          "heatmapgl": [
           {
            "colorbar": {
             "outlinewidth": 0,
             "ticks": ""
            },
            "colorscale": [
             [
              0,
              "#0d0887"
             ],
             [
              0.1111111111111111,
              "#46039f"
             ],
             [
              0.2222222222222222,
              "#7201a8"
             ],
             [
              0.3333333333333333,
              "#9c179e"
             ],
             [
              0.4444444444444444,
              "#bd3786"
             ],
             [
              0.5555555555555556,
              "#d8576b"
             ],
             [
              0.6666666666666666,
              "#ed7953"
             ],
             [
              0.7777777777777778,
              "#fb9f3a"
             ],
             [
              0.8888888888888888,
              "#fdca26"
             ],
             [
              1,
              "#f0f921"
             ]
            ],
            "type": "heatmapgl"
           }
          ],
          "histogram": [
           {
            "marker": {
             "pattern": {
              "fillmode": "overlay",
              "size": 10,
              "solidity": 0.2
             }
            },
            "type": "histogram"
           }
          ],
          "histogram2d": [
           {
            "colorbar": {
             "outlinewidth": 0,
             "ticks": ""
            },
            "colorscale": [
             [
              0,
              "#0d0887"
             ],
             [
              0.1111111111111111,
              "#46039f"
             ],
             [
              0.2222222222222222,
              "#7201a8"
             ],
             [
              0.3333333333333333,
              "#9c179e"
             ],
             [
              0.4444444444444444,
              "#bd3786"
             ],
             [
              0.5555555555555556,
              "#d8576b"
             ],
             [
              0.6666666666666666,
              "#ed7953"
             ],
             [
              0.7777777777777778,
              "#fb9f3a"
             ],
             [
              0.8888888888888888,
              "#fdca26"
             ],
             [
              1,
              "#f0f921"
             ]
            ],
            "type": "histogram2d"
           }
          ],
          "histogram2dcontour": [
           {
            "colorbar": {
             "outlinewidth": 0,
             "ticks": ""
            },
            "colorscale": [
             [
              0,
              "#0d0887"
             ],
             [
              0.1111111111111111,
              "#46039f"
             ],
             [
              0.2222222222222222,
              "#7201a8"
             ],
             [
              0.3333333333333333,
              "#9c179e"
             ],
             [
              0.4444444444444444,
              "#bd3786"
             ],
             [
              0.5555555555555556,
              "#d8576b"
             ],
             [
              0.6666666666666666,
              "#ed7953"
             ],
             [
              0.7777777777777778,
              "#fb9f3a"
             ],
             [
              0.8888888888888888,
              "#fdca26"
             ],
             [
              1,
              "#f0f921"
             ]
            ],
            "type": "histogram2dcontour"
           }
          ],
          "mesh3d": [
           {
            "colorbar": {
             "outlinewidth": 0,
             "ticks": ""
            },
            "type": "mesh3d"
           }
          ],
          "parcoords": [
           {
            "line": {
             "colorbar": {
              "outlinewidth": 0,
              "ticks": ""
             }
            },
            "type": "parcoords"
           }
          ],
          "pie": [
           {
            "automargin": true,
            "type": "pie"
           }
          ],
          "scatter": [
           {
            "fillpattern": {
             "fillmode": "overlay",
             "size": 10,
             "solidity": 0.2
            },
            "type": "scatter"
           }
          ],
          "scatter3d": [
           {
            "line": {
             "colorbar": {
              "outlinewidth": 0,
              "ticks": ""
             }
            },
            "marker": {
             "colorbar": {
              "outlinewidth": 0,
              "ticks": ""
             }
            },
            "type": "scatter3d"
           }
          ],
          "scattercarpet": [
           {
            "marker": {
             "colorbar": {
              "outlinewidth": 0,
              "ticks": ""
             }
            },
            "type": "scattercarpet"
           }
          ],
          "scattergeo": [
           {
            "marker": {
             "colorbar": {
              "outlinewidth": 0,
              "ticks": ""
             }
            },
            "type": "scattergeo"
           }
          ],
          "scattergl": [
           {
            "marker": {
             "colorbar": {
              "outlinewidth": 0,
              "ticks": ""
             }
            },
            "type": "scattergl"
           }
          ],
          "scattermapbox": [
           {
            "marker": {
             "colorbar": {
              "outlinewidth": 0,
              "ticks": ""
             }
            },
            "type": "scattermapbox"
           }
          ],
          "scatterpolar": [
           {
            "marker": {
             "colorbar": {
              "outlinewidth": 0,
              "ticks": ""
             }
            },
            "type": "scatterpolar"
           }
          ],
          "scatterpolargl": [
           {
            "marker": {
             "colorbar": {
              "outlinewidth": 0,
              "ticks": ""
             }
            },
            "type": "scatterpolargl"
           }
          ],
          "scatterternary": [
           {
            "marker": {
             "colorbar": {
              "outlinewidth": 0,
              "ticks": ""
             }
            },
            "type": "scatterternary"
           }
          ],
          "surface": [
           {
            "colorbar": {
             "outlinewidth": 0,
             "ticks": ""
            },
            "colorscale": [
             [
              0,
              "#0d0887"
             ],
             [
              0.1111111111111111,
              "#46039f"
             ],
             [
              0.2222222222222222,
              "#7201a8"
             ],
             [
              0.3333333333333333,
              "#9c179e"
             ],
             [
              0.4444444444444444,
              "#bd3786"
             ],
             [
              0.5555555555555556,
              "#d8576b"
             ],
             [
              0.6666666666666666,
              "#ed7953"
             ],
             [
              0.7777777777777778,
              "#fb9f3a"
             ],
             [
              0.8888888888888888,
              "#fdca26"
             ],
             [
              1,
              "#f0f921"
             ]
            ],
            "type": "surface"
           }
          ],
          "table": [
           {
            "cells": {
             "fill": {
              "color": "#EBF0F8"
             },
             "line": {
              "color": "white"
             }
            },
            "header": {
             "fill": {
              "color": "#C8D4E3"
             },
             "line": {
              "color": "white"
             }
            },
            "type": "table"
           }
          ]
         },
         "layout": {
          "annotationdefaults": {
           "arrowcolor": "#2a3f5f",
           "arrowhead": 0,
           "arrowwidth": 1
          },
          "autotypenumbers": "strict",
          "coloraxis": {
           "colorbar": {
            "outlinewidth": 0,
            "ticks": ""
           }
          },
          "colorscale": {
           "diverging": [
            [
             0,
             "#8e0152"
            ],
            [
             0.1,
             "#c51b7d"
            ],
            [
             0.2,
             "#de77ae"
            ],
            [
             0.3,
             "#f1b6da"
            ],
            [
             0.4,
             "#fde0ef"
            ],
            [
             0.5,
             "#f7f7f7"
            ],
            [
             0.6,
             "#e6f5d0"
            ],
            [
             0.7,
             "#b8e186"
            ],
            [
             0.8,
             "#7fbc41"
            ],
            [
             0.9,
             "#4d9221"
            ],
            [
             1,
             "#276419"
            ]
           ],
           "sequential": [
            [
             0,
             "#0d0887"
            ],
            [
             0.1111111111111111,
             "#46039f"
            ],
            [
             0.2222222222222222,
             "#7201a8"
            ],
            [
             0.3333333333333333,
             "#9c179e"
            ],
            [
             0.4444444444444444,
             "#bd3786"
            ],
            [
             0.5555555555555556,
             "#d8576b"
            ],
            [
             0.6666666666666666,
             "#ed7953"
            ],
            [
             0.7777777777777778,
             "#fb9f3a"
            ],
            [
             0.8888888888888888,
             "#fdca26"
            ],
            [
             1,
             "#f0f921"
            ]
           ],
           "sequentialminus": [
            [
             0,
             "#0d0887"
            ],
            [
             0.1111111111111111,
             "#46039f"
            ],
            [
             0.2222222222222222,
             "#7201a8"
            ],
            [
             0.3333333333333333,
             "#9c179e"
            ],
            [
             0.4444444444444444,
             "#bd3786"
            ],
            [
             0.5555555555555556,
             "#d8576b"
            ],
            [
             0.6666666666666666,
             "#ed7953"
            ],
            [
             0.7777777777777778,
             "#fb9f3a"
            ],
            [
             0.8888888888888888,
             "#fdca26"
            ],
            [
             1,
             "#f0f921"
            ]
           ]
          },
          "colorway": [
           "#636efa",
           "#EF553B",
           "#00cc96",
           "#ab63fa",
           "#FFA15A",
           "#19d3f3",
           "#FF6692",
           "#B6E880",
           "#FF97FF",
           "#FECB52"
          ],
          "font": {
           "color": "#2a3f5f"
          },
          "geo": {
           "bgcolor": "white",
           "lakecolor": "white",
           "landcolor": "#E5ECF6",
           "showlakes": true,
           "showland": true,
           "subunitcolor": "white"
          },
          "hoverlabel": {
           "align": "left"
          },
          "hovermode": "closest",
          "mapbox": {
           "style": "light"
          },
          "paper_bgcolor": "white",
          "plot_bgcolor": "#E5ECF6",
          "polar": {
           "angularaxis": {
            "gridcolor": "white",
            "linecolor": "white",
            "ticks": ""
           },
           "bgcolor": "#E5ECF6",
           "radialaxis": {
            "gridcolor": "white",
            "linecolor": "white",
            "ticks": ""
           }
          },
          "scene": {
           "xaxis": {
            "backgroundcolor": "#E5ECF6",
            "gridcolor": "white",
            "gridwidth": 2,
            "linecolor": "white",
            "showbackground": true,
            "ticks": "",
            "zerolinecolor": "white"
           },
           "yaxis": {
            "backgroundcolor": "#E5ECF6",
            "gridcolor": "white",
            "gridwidth": 2,
            "linecolor": "white",
            "showbackground": true,
            "ticks": "",
            "zerolinecolor": "white"
           },
           "zaxis": {
            "backgroundcolor": "#E5ECF6",
            "gridcolor": "white",
            "gridwidth": 2,
            "linecolor": "white",
            "showbackground": true,
            "ticks": "",
            "zerolinecolor": "white"
           }
          },
          "shapedefaults": {
           "line": {
            "color": "#2a3f5f"
           }
          },
          "ternary": {
           "aaxis": {
            "gridcolor": "white",
            "linecolor": "white",
            "ticks": ""
           },
           "baxis": {
            "gridcolor": "white",
            "linecolor": "white",
            "ticks": ""
           },
           "bgcolor": "#E5ECF6",
           "caxis": {
            "gridcolor": "white",
            "linecolor": "white",
            "ticks": ""
           }
          },
          "title": {
           "x": 0.05
          },
          "xaxis": {
           "automargin": true,
           "gridcolor": "white",
           "linecolor": "white",
           "ticks": "",
           "title": {
            "standoff": 15
           },
           "zerolinecolor": "white",
           "zerolinewidth": 2
          },
          "yaxis": {
           "automargin": true,
           "gridcolor": "white",
           "linecolor": "white",
           "ticks": "",
           "title": {
            "standoff": 15
           },
           "zerolinecolor": "white",
           "zerolinewidth": 2
          }
         }
        },
        "title": {
         "text": "<b>USA Heart Disease Overall Mortality Rate vs Male/Female Difference Rate</b>"
        },
        "xaxis": {
         "anchor": "y",
         "domain": [
          0,
          1
         ],
         "title": {
          "text": "Overall Rate"
         }
        },
        "yaxis": {
         "anchor": "x",
         "domain": [
          0,
          1
         ],
         "title": {
          "text": "M/F Difference"
         }
        }
       }
      }
     },
     "metadata": {},
     "output_type": "display_data"
    }
   ],
   "source": [
    "fig = px.scatter(state_df_pivoted, \n",
    "                 x='Overall Rate', \n",
    "                 y='M/F Difference', \n",
    "                 hover_name='Full State Name', \n",
    "                 size='Overall Rate', \n",
    "                 color='State', \n",
    "                 height=600)  # Set the height to your desired value (e.g., 600 pixels)\n",
    "fig.update_traces(showlegend=False)\n",
    "fig.update_layout(title='<b>USA Heart Disease Overall Mortality Rate vs Male/Female Difference Rate</b>')\n",
    "fig.show()\n",
    "# color_discrete_sequence=px.colors.sequential.Reds"
   ]
  },
  {
   "cell_type": "markdown",
   "metadata": {},
   "source": [
    "## Dash  App"
   ]
  },
  {
   "cell_type": "code",
   "execution_count": 18,
   "metadata": {},
   "outputs": [
    {
     "name": "stderr",
     "output_type": "stream",
     "text": [
      "/var/folders/gj/34pvzc9x2x98g0vpglqmrsz80000gn/T/ipykernel_65709/3649862469.py:2: UserWarning:\n",
      "\n",
      "\n",
      "The dash_core_components package is deprecated. Please replace\n",
      "`import dash_core_components as dcc` with `from dash import dcc`\n",
      "\n",
      "/var/folders/gj/34pvzc9x2x98g0vpglqmrsz80000gn/T/ipykernel_65709/3649862469.py:3: UserWarning:\n",
      "\n",
      "\n",
      "The dash_html_components package is deprecated. Please replace\n",
      "`import dash_html_components as html` with `from dash import html`\n",
      "\n"
     ]
    }
   ],
   "source": [
    "import dash\n",
    "import dash_core_components as dcc\n",
    "import dash_html_components as html\n",
    "from dash.dependencies import Input, Output"
   ]
  },
  {
   "cell_type": "code",
   "execution_count": 19,
   "metadata": {},
   "outputs": [
    {
     "data": {
      "text/html": [
       "<div>\n",
       "<style scoped>\n",
       "    .dataframe tbody tr th:only-of-type {\n",
       "        vertical-align: middle;\n",
       "    }\n",
       "\n",
       "    .dataframe tbody tr th {\n",
       "        vertical-align: top;\n",
       "    }\n",
       "\n",
       "    .dataframe thead th {\n",
       "        text-align: right;\n",
       "    }\n",
       "</style>\n",
       "<table border=\"1\" class=\"dataframe\">\n",
       "  <thead>\n",
       "    <tr style=\"text-align: right;\">\n",
       "      <th>Gender</th>\n",
       "      <th>State</th>\n",
       "      <th>Female Rate</th>\n",
       "      <th>Male Rate</th>\n",
       "      <th>Overall Rate</th>\n",
       "      <th>Full State Name</th>\n",
       "      <th>M/F Difference</th>\n",
       "    </tr>\n",
       "  </thead>\n",
       "  <tbody>\n",
       "    <tr>\n",
       "      <th>0</th>\n",
       "      <td>AK</td>\n",
       "      <td>203.5</td>\n",
       "      <td>345.3</td>\n",
       "      <td>272.2</td>\n",
       "      <td>Alaska</td>\n",
       "      <td>141.8</td>\n",
       "    </tr>\n",
       "    <tr>\n",
       "      <th>1</th>\n",
       "      <td>AL</td>\n",
       "      <td>356.5</td>\n",
       "      <td>570.3</td>\n",
       "      <td>451.9</td>\n",
       "      <td>Alabama</td>\n",
       "      <td>213.8</td>\n",
       "    </tr>\n",
       "    <tr>\n",
       "      <th>2</th>\n",
       "      <td>AR</td>\n",
       "      <td>344.8</td>\n",
       "      <td>549.1</td>\n",
       "      <td>438.2</td>\n",
       "      <td>Arkansas</td>\n",
       "      <td>204.3</td>\n",
       "    </tr>\n",
       "    <tr>\n",
       "      <th>4</th>\n",
       "      <td>AZ</td>\n",
       "      <td>218.9</td>\n",
       "      <td>353.2</td>\n",
       "      <td>282.1</td>\n",
       "      <td>Arizona</td>\n",
       "      <td>134.3</td>\n",
       "    </tr>\n",
       "    <tr>\n",
       "      <th>5</th>\n",
       "      <td>CA</td>\n",
       "      <td>210.8</td>\n",
       "      <td>357.8</td>\n",
       "      <td>277.4</td>\n",
       "      <td>California</td>\n",
       "      <td>147.0</td>\n",
       "    </tr>\n",
       "  </tbody>\n",
       "</table>\n",
       "</div>"
      ],
      "text/plain": [
       "Gender State  Female Rate  Male Rate  Overall Rate Full State Name  \\\n",
       "0         AK        203.5      345.3         272.2          Alaska   \n",
       "1         AL        356.5      570.3         451.9         Alabama   \n",
       "2         AR        344.8      549.1         438.2        Arkansas   \n",
       "4         AZ        218.9      353.2         282.1         Arizona   \n",
       "5         CA        210.8      357.8         277.4      California   \n",
       "\n",
       "Gender  M/F Difference  \n",
       "0                141.8  \n",
       "1                213.8  \n",
       "2                204.3  \n",
       "4                134.3  \n",
       "5                147.0  "
      ]
     },
     "execution_count": 19,
     "metadata": {},
     "output_type": "execute_result"
    }
   ],
   "source": [
    "state_df_pivoted.head()"
   ]
  },
  {
   "cell_type": "code",
   "execution_count": 20,
   "metadata": {},
   "outputs": [
    {
     "data": {
      "text/html": [
       "<div>\n",
       "<style scoped>\n",
       "    .dataframe tbody tr th:only-of-type {\n",
       "        vertical-align: middle;\n",
       "    }\n",
       "\n",
       "    .dataframe tbody tr th {\n",
       "        vertical-align: top;\n",
       "    }\n",
       "\n",
       "    .dataframe thead th {\n",
       "        text-align: right;\n",
       "    }\n",
       "</style>\n",
       "<table border=\"1\" class=\"dataframe\">\n",
       "  <thead>\n",
       "    <tr style=\"text-align: right;\">\n",
       "      <th>Gender</th>\n",
       "      <th>State</th>\n",
       "      <th>Female Rate</th>\n",
       "      <th>Male Rate</th>\n",
       "      <th>Overall Rate</th>\n",
       "      <th>Full State Name</th>\n",
       "      <th>M/F Difference</th>\n",
       "    </tr>\n",
       "  </thead>\n",
       "  <tbody>\n",
       "    <tr>\n",
       "      <th>13</th>\n",
       "      <td>HI</td>\n",
       "      <td>162.2</td>\n",
       "      <td>327.9</td>\n",
       "      <td>238.7</td>\n",
       "      <td>Hawaii</td>\n",
       "      <td>165.7</td>\n",
       "    </tr>\n",
       "    <tr>\n",
       "      <th>25</th>\n",
       "      <td>MN</td>\n",
       "      <td>179.8</td>\n",
       "      <td>295.5</td>\n",
       "      <td>231.4</td>\n",
       "      <td>Minnesota</td>\n",
       "      <td>115.7</td>\n",
       "    </tr>\n",
       "    <tr>\n",
       "      <th>21</th>\n",
       "      <td>MA</td>\n",
       "      <td>193.1</td>\n",
       "      <td>327.3</td>\n",
       "      <td>250.8</td>\n",
       "      <td>Massachusetts</td>\n",
       "      <td>134.2</td>\n",
       "    </tr>\n",
       "    <tr>\n",
       "      <th>6</th>\n",
       "      <td>CO</td>\n",
       "      <td>201.1</td>\n",
       "      <td>312.3</td>\n",
       "      <td>252.6</td>\n",
       "      <td>Colorado</td>\n",
       "      <td>111.2</td>\n",
       "    </tr>\n",
       "    <tr>\n",
       "      <th>0</th>\n",
       "      <td>AK</td>\n",
       "      <td>203.5</td>\n",
       "      <td>345.3</td>\n",
       "      <td>272.2</td>\n",
       "      <td>Alaska</td>\n",
       "      <td>141.8</td>\n",
       "    </tr>\n",
       "  </tbody>\n",
       "</table>\n",
       "</div>"
      ],
      "text/plain": [
       "Gender State  Female Rate  Male Rate  Overall Rate Full State Name  \\\n",
       "13        HI        162.2      327.9         238.7          Hawaii   \n",
       "25        MN        179.8      295.5         231.4       Minnesota   \n",
       "21        MA        193.1      327.3         250.8   Massachusetts   \n",
       "6         CO        201.1      312.3         252.6        Colorado   \n",
       "0         AK        203.5      345.3         272.2          Alaska   \n",
       "\n",
       "Gender  M/F Difference  \n",
       "13               165.7  \n",
       "25               115.7  \n",
       "21               134.2  \n",
       "6                111.2  \n",
       "0                141.8  "
      ]
     },
     "execution_count": 20,
     "metadata": {},
     "output_type": "execute_result"
    }
   ],
   "source": [
    "female_df = state_df_pivoted.sort_values(by='Female Rate', ascending=True)\n",
    "female_df.head()"
   ]
  },
  {
   "cell_type": "code",
   "execution_count": 21,
   "metadata": {},
   "outputs": [],
   "source": [
    "app = dash.Dash(__name__)"
   ]
  },
  {
   "cell_type": "code",
   "execution_count": 22,
   "metadata": {},
   "outputs": [],
   "source": [
    "app.layout = html.Div([\n",
    "    html.Div([\n",
    "        html.Div('Select Gender:', style={'fontSize': 25, 'color': 'white'}),\n",
    "        dcc.RadioItems(\n",
    "            id='gender-selector',\n",
    "            options=[\n",
    "                {'label': 'Male', 'value': 'Male Rate'},\n",
    "                {'label': 'Female', 'value': 'Female Rate'},\n",
    "                {'label': 'Overall', 'value': 'Overall Rate'}\n",
    "            ],\n",
    "            value='Overall Rate',  # Default value\n",
    "            labelStyle={'display': 'inline-block', 'margin': '10px', 'color': 'white'}  # Style for radio items\n",
    "        )\n",
    "    ], style={'textAlign': 'left', 'marginBottom': '10px'}),\n",
    "    \n",
    "    dcc.Graph(id='choropleth-map', style={'width': '100%', 'height': '400px'})  # Set the graph to full width\n",
    "])"
   ]
  },
  {
   "cell_type": "code",
   "execution_count": 23,
   "metadata": {},
   "outputs": [],
   "source": [
    "@app.callback(\n",
    "    Output('choropleth-map', 'figure'),\n",
    "    Input('gender-selector', 'value')\n",
    ")\n",
    "def update_graphs(selected_rate):\n",
    "    # Update Choropleth Map\n",
    "    choropleth_fig = go.Figure(data=go.Choropleth(\n",
    "        locations=state_df_pivoted['State'],\n",
    "        z=state_df_pivoted[selected_rate],\n",
    "        locationmode='USA-states',\n",
    "        colorscale='Magma_r',\n",
    "        zmin=160, \n",
    "        zmax=600,  \n",
    "        autocolorscale=False,\n",
    "        marker_line_color='white',\n",
    "        marker_line_width=0.5,\n",
    "        colorbar_title=\"Mortality Rate (Per 100,000)\",\n",
    "        hoverinfo='text',\n",
    "        customdata=state_df_pivoted[['Full State Name', 'Male Rate', 'Female Rate']],\n",
    "        hovertemplate=\"<span style='font-size: 14px;'><b>%{customdata[0]}</b></span><br>\" +\n",
    "                      \"Mortality Rate: %{z}<br>\" +\n",
    "                      \"<extra></extra>\",\n",
    "    ))\n",
    "\n",
    "    choropleth_fig.update_layout(\n",
    "        title_text=\"<b>USA Heart Disease Mortality Rate by Gender</b>\",\n",
    "        title_y=0.9,\n",
    "        geo_scope='usa',\n",
    "        width=1000,  # You can adjust this if needed\n",
    "        height=600,  # Keep the height consistent\n",
    "        showlegend=False,\n",
    "        paper_bgcolor='darkgrey',\n",
    "        title_font_color='White',\n",
    "        title_font_size=28,  # Reduce title font size\n",
    "        margin=dict(l=10, r=10, t=50, b=10)\n",
    "    )\n",
    "\n",
    "    return choropleth_fig"
   ]
  },
  {
   "cell_type": "code",
   "execution_count": null,
   "metadata": {},
   "outputs": [
    {
     "ename": "AssertionError",
     "evalue": "The setup method 'errorhandler' can no longer be called on the application. It has already handled its first request, any changes will not be applied consistently.\nMake sure all imports, decorators, functions, etc. needed to set up the application are done before running it.",
     "output_type": "error",
     "traceback": [
      "\u001b[0;31m---------------------------------------------------------------------------\u001b[0m",
      "\u001b[0;31mAssertionError\u001b[0m                            Traceback (most recent call last)",
      "Cell \u001b[0;32mIn[25], line 3\u001b[0m\n\u001b[1;32m      1\u001b[0m \u001b[38;5;66;03m# Run the app\u001b[39;00m\n\u001b[1;32m      2\u001b[0m \u001b[38;5;28;01mif\u001b[39;00m \u001b[38;5;18m__name__\u001b[39m \u001b[38;5;241m==\u001b[39m \u001b[38;5;124m'\u001b[39m\u001b[38;5;124m__main__\u001b[39m\u001b[38;5;124m'\u001b[39m:\n\u001b[0;32m----> 3\u001b[0m     app\u001b[38;5;241m.\u001b[39mrun_server(debug\u001b[38;5;241m=\u001b[39m\u001b[38;5;28;01mTrue\u001b[39;00m)\n",
      "File \u001b[0;32m/opt/anaconda3/envs/dev/lib/python3.12/site-packages/dash/dash.py:2287\u001b[0m, in \u001b[0;36mDash.run_server\u001b[0;34m(self, *args, **kwargs)\u001b[0m\n\u001b[1;32m   2277\u001b[0m \u001b[38;5;250m\u001b[39m\u001b[38;5;124;03m\"\"\"`run_server` is a deprecated alias of `run` and may be removed in a\u001b[39;00m\n\u001b[1;32m   2278\u001b[0m \u001b[38;5;124;03mfuture version. We recommend using `app.run` instead.\u001b[39;00m\n\u001b[1;32m   2279\u001b[0m \n\u001b[1;32m   2280\u001b[0m \u001b[38;5;124;03mSee `app.run` for usage information.\u001b[39;00m\n\u001b[1;32m   2281\u001b[0m \u001b[38;5;124;03m\"\"\"\u001b[39;00m\n\u001b[1;32m   2282\u001b[0m warnings\u001b[38;5;241m.\u001b[39mwarn(\n\u001b[1;32m   2283\u001b[0m     \u001b[38;5;167;01mDeprecationWarning\u001b[39;00m(\n\u001b[1;32m   2284\u001b[0m         \u001b[38;5;124m\"\u001b[39m\u001b[38;5;124mDash.run_server is deprecated and will be removed in Dash 3.0\u001b[39m\u001b[38;5;124m\"\u001b[39m\n\u001b[1;32m   2285\u001b[0m     )\n\u001b[1;32m   2286\u001b[0m )\n\u001b[0;32m-> 2287\u001b[0m \u001b[38;5;28mself\u001b[39m\u001b[38;5;241m.\u001b[39mrun(\u001b[38;5;241m*\u001b[39margs, \u001b[38;5;241m*\u001b[39m\u001b[38;5;241m*\u001b[39mkwargs)\n",
      "File \u001b[0;32m/opt/anaconda3/envs/dev/lib/python3.12/site-packages/dash/dash.py:2098\u001b[0m, in \u001b[0;36mDash.run\u001b[0;34m(self, host, port, proxy, debug, jupyter_mode, jupyter_width, jupyter_height, jupyter_server_url, dev_tools_ui, dev_tools_props_check, dev_tools_serve_dev_bundles, dev_tools_hot_reload, dev_tools_hot_reload_interval, dev_tools_hot_reload_watch_interval, dev_tools_hot_reload_max_retry, dev_tools_silence_routes_logging, dev_tools_prune_errors, **flask_run_options)\u001b[0m\n\u001b[1;32m   2095\u001b[0m \u001b[38;5;28;01mif\u001b[39;00m debug \u001b[38;5;129;01mis\u001b[39;00m \u001b[38;5;28;01mNone\u001b[39;00m:\n\u001b[1;32m   2096\u001b[0m     debug \u001b[38;5;241m=\u001b[39m get_combined_config(\u001b[38;5;124m\"\u001b[39m\u001b[38;5;124mdebug\u001b[39m\u001b[38;5;124m\"\u001b[39m, \u001b[38;5;28;01mNone\u001b[39;00m, \u001b[38;5;28;01mFalse\u001b[39;00m)\n\u001b[0;32m-> 2098\u001b[0m debug \u001b[38;5;241m=\u001b[39m \u001b[38;5;28mself\u001b[39m\u001b[38;5;241m.\u001b[39menable_dev_tools(\n\u001b[1;32m   2099\u001b[0m     debug,\n\u001b[1;32m   2100\u001b[0m     dev_tools_ui,\n\u001b[1;32m   2101\u001b[0m     dev_tools_props_check,\n\u001b[1;32m   2102\u001b[0m     dev_tools_serve_dev_bundles,\n\u001b[1;32m   2103\u001b[0m     dev_tools_hot_reload,\n\u001b[1;32m   2104\u001b[0m     dev_tools_hot_reload_interval,\n\u001b[1;32m   2105\u001b[0m     dev_tools_hot_reload_watch_interval,\n\u001b[1;32m   2106\u001b[0m     dev_tools_hot_reload_max_retry,\n\u001b[1;32m   2107\u001b[0m     dev_tools_silence_routes_logging,\n\u001b[1;32m   2108\u001b[0m     dev_tools_prune_errors,\n\u001b[1;32m   2109\u001b[0m )\n\u001b[1;32m   2111\u001b[0m \u001b[38;5;66;03m# Evaluate the env variables at runtime\u001b[39;00m\n\u001b[1;32m   2113\u001b[0m host \u001b[38;5;241m=\u001b[39m os\u001b[38;5;241m.\u001b[39mgetenv(\u001b[38;5;124m\"\u001b[39m\u001b[38;5;124mHOST\u001b[39m\u001b[38;5;124m\"\u001b[39m, host)\n",
      "File \u001b[0;32m/opt/anaconda3/envs/dev/lib/python3.12/site-packages/dash/dash.py:1868\u001b[0m, in \u001b[0;36mDash.enable_dev_tools\u001b[0;34m(self, debug, dev_tools_ui, dev_tools_props_check, dev_tools_serve_dev_bundles, dev_tools_hot_reload, dev_tools_hot_reload_interval, dev_tools_hot_reload_watch_interval, dev_tools_hot_reload_max_retry, dev_tools_silence_routes_logging, dev_tools_prune_errors)\u001b[0m\n\u001b[1;32m   1866\u001b[0m \u001b[38;5;28;01mif\u001b[39;00m debug:\n\u001b[1;32m   1867\u001b[0m     \u001b[38;5;28;01mif\u001b[39;00m jupyter_dash\u001b[38;5;241m.\u001b[39mactive:\n\u001b[0;32m-> 1868\u001b[0m         jupyter_dash\u001b[38;5;241m.\u001b[39mconfigure_callback_exception_handling(\n\u001b[1;32m   1869\u001b[0m             \u001b[38;5;28mself\u001b[39m, dev_tools\u001b[38;5;241m.\u001b[39mprune_errors\n\u001b[1;32m   1870\u001b[0m         )\n\u001b[1;32m   1871\u001b[0m     \u001b[38;5;28;01melif\u001b[39;00m dev_tools\u001b[38;5;241m.\u001b[39mprune_errors:\n\u001b[1;32m   1872\u001b[0m         secret \u001b[38;5;241m=\u001b[39m gen_salt(\u001b[38;5;241m20\u001b[39m)\n",
      "File \u001b[0;32m/opt/anaconda3/envs/dev/lib/python3.12/site-packages/dash/_jupyter.py:447\u001b[0m, in \u001b[0;36mJupyterDash.configure_callback_exception_handling\u001b[0;34m(self, app, dev_tools_prune_errors)\u001b[0m\n\u001b[1;32m    444\u001b[0m \u001b[38;5;28;01mdef\u001b[39;00m \u001b[38;5;21mconfigure_callback_exception_handling\u001b[39m(\u001b[38;5;28mself\u001b[39m, app, dev_tools_prune_errors):\n\u001b[1;32m    445\u001b[0m \u001b[38;5;250m    \u001b[39m\u001b[38;5;124;03m\"\"\"Install traceback handling for callbacks\"\"\"\u001b[39;00m\n\u001b[0;32m--> 447\u001b[0m     \u001b[38;5;129m@app\u001b[39m\u001b[38;5;241m.\u001b[39mserver\u001b[38;5;241m.\u001b[39merrorhandler(\u001b[38;5;167;01mException\u001b[39;00m)\n\u001b[1;32m    448\u001b[0m     \u001b[38;5;28;01mdef\u001b[39;00m \u001b[38;5;21m_wrap_errors\u001b[39m(error):\n\u001b[1;32m    449\u001b[0m         \u001b[38;5;66;03m# Compute number of stack frames to skip to get down to callback\u001b[39;00m\n\u001b[1;32m    450\u001b[0m         skip \u001b[38;5;241m=\u001b[39m _get_skip(error) \u001b[38;5;28;01mif\u001b[39;00m dev_tools_prune_errors \u001b[38;5;28;01melse\u001b[39;00m \u001b[38;5;241m0\u001b[39m\n\u001b[1;32m    452\u001b[0m         \u001b[38;5;66;03m# Customized formatargvalues function we can place function parameters\u001b[39;00m\n\u001b[1;32m    453\u001b[0m         \u001b[38;5;66;03m# on separate lines\u001b[39;00m\n",
      "File \u001b[0;32m/opt/anaconda3/envs/dev/lib/python3.12/site-packages/flask/sansio/scaffold.py:46\u001b[0m, in \u001b[0;36msetupmethod.<locals>.wrapper_func\u001b[0;34m(self, *args, **kwargs)\u001b[0m\n\u001b[1;32m     45\u001b[0m \u001b[38;5;28;01mdef\u001b[39;00m \u001b[38;5;21mwrapper_func\u001b[39m(\u001b[38;5;28mself\u001b[39m: Scaffold, \u001b[38;5;241m*\u001b[39margs: t\u001b[38;5;241m.\u001b[39mAny, \u001b[38;5;241m*\u001b[39m\u001b[38;5;241m*\u001b[39mkwargs: t\u001b[38;5;241m.\u001b[39mAny) \u001b[38;5;241m-\u001b[39m\u001b[38;5;241m>\u001b[39m t\u001b[38;5;241m.\u001b[39mAny:\n\u001b[0;32m---> 46\u001b[0m     \u001b[38;5;28mself\u001b[39m\u001b[38;5;241m.\u001b[39m_check_setup_finished(f_name)\n\u001b[1;32m     47\u001b[0m     \u001b[38;5;28;01mreturn\u001b[39;00m f(\u001b[38;5;28mself\u001b[39m, \u001b[38;5;241m*\u001b[39margs, \u001b[38;5;241m*\u001b[39m\u001b[38;5;241m*\u001b[39mkwargs)\n",
      "File \u001b[0;32m/opt/anaconda3/envs/dev/lib/python3.12/site-packages/flask/sansio/app.py:415\u001b[0m, in \u001b[0;36mApp._check_setup_finished\u001b[0;34m(self, f_name)\u001b[0m\n\u001b[1;32m    413\u001b[0m \u001b[38;5;28;01mdef\u001b[39;00m \u001b[38;5;21m_check_setup_finished\u001b[39m(\u001b[38;5;28mself\u001b[39m, f_name: \u001b[38;5;28mstr\u001b[39m) \u001b[38;5;241m-\u001b[39m\u001b[38;5;241m>\u001b[39m \u001b[38;5;28;01mNone\u001b[39;00m:\n\u001b[1;32m    414\u001b[0m     \u001b[38;5;28;01mif\u001b[39;00m \u001b[38;5;28mself\u001b[39m\u001b[38;5;241m.\u001b[39m_got_first_request:\n\u001b[0;32m--> 415\u001b[0m         \u001b[38;5;28;01mraise\u001b[39;00m \u001b[38;5;167;01mAssertionError\u001b[39;00m(\n\u001b[1;32m    416\u001b[0m             \u001b[38;5;124mf\u001b[39m\u001b[38;5;124m\"\u001b[39m\u001b[38;5;124mThe setup method \u001b[39m\u001b[38;5;124m'\u001b[39m\u001b[38;5;132;01m{\u001b[39;00mf_name\u001b[38;5;132;01m}\u001b[39;00m\u001b[38;5;124m'\u001b[39m\u001b[38;5;124m can no longer be called\u001b[39m\u001b[38;5;124m\"\u001b[39m\n\u001b[1;32m    417\u001b[0m             \u001b[38;5;124m\"\u001b[39m\u001b[38;5;124m on the application. It has already handled its first\u001b[39m\u001b[38;5;124m\"\u001b[39m\n\u001b[1;32m    418\u001b[0m             \u001b[38;5;124m\"\u001b[39m\u001b[38;5;124m request, any changes will not be applied\u001b[39m\u001b[38;5;124m\"\u001b[39m\n\u001b[1;32m    419\u001b[0m             \u001b[38;5;124m\"\u001b[39m\u001b[38;5;124m consistently.\u001b[39m\u001b[38;5;130;01m\\n\u001b[39;00m\u001b[38;5;124m\"\u001b[39m\n\u001b[1;32m    420\u001b[0m             \u001b[38;5;124m\"\u001b[39m\u001b[38;5;124mMake sure all imports, decorators, functions, etc.\u001b[39m\u001b[38;5;124m\"\u001b[39m\n\u001b[1;32m    421\u001b[0m             \u001b[38;5;124m\"\u001b[39m\u001b[38;5;124m needed to set up the application are done before\u001b[39m\u001b[38;5;124m\"\u001b[39m\n\u001b[1;32m    422\u001b[0m             \u001b[38;5;124m\"\u001b[39m\u001b[38;5;124m running it.\u001b[39m\u001b[38;5;124m\"\u001b[39m\n\u001b[1;32m    423\u001b[0m         )\n",
      "\u001b[0;31mAssertionError\u001b[0m: The setup method 'errorhandler' can no longer be called on the application. It has already handled its first request, any changes will not be applied consistently.\nMake sure all imports, decorators, functions, etc. needed to set up the application are done before running it."
     ]
    },
    {
     "ename": "",
     "evalue": "",
     "output_type": "error",
     "traceback": [
      "\u001b[1;31mThe Kernel crashed while executing code in the current cell or a previous cell. \n",
      "\u001b[1;31mPlease review the code in the cell(s) to identify a possible cause of the failure. \n",
      "\u001b[1;31mClick <a href='https://aka.ms/vscodeJupyterKernelCrash'>here</a> for more info. \n",
      "\u001b[1;31mView Jupyter <a href='command:jupyter.viewOutput'>log</a> for further details."
     ]
    }
   ],
   "source": [
    "# Run the app\n",
    "if __name__ == '__main__':\n",
    "    app.run_server(debug=True)"
   ]
  }
 ],
 "metadata": {
  "kernelspec": {
   "display_name": "dev",
   "language": "python",
   "name": "python3"
  },
  "language_info": {
   "codemirror_mode": {
    "name": "ipython",
    "version": 3
   },
   "file_extension": ".py",
   "mimetype": "text/x-python",
   "name": "python",
   "nbconvert_exporter": "python",
   "pygments_lexer": "ipython3",
   "version": "3.12.4"
  }
 },
 "nbformat": 4,
 "nbformat_minor": 2
}
